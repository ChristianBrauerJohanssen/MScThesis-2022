{
 "cells": [
  {
   "cell_type": "markdown",
   "metadata": {},
   "source": [
    "# Macroprudential Policy and the Housing Market - Replication Notebook\n",
    "This notebook solves and simulates the Heterogenous Agent Housing Market (HAH) model and produces the output contained in my Master's thesis. \n",
    "\n",
    "**Dependencies:**\n",
    "\n",
    "The code structure builds upon the framework developed by Jeppe Druedahl & Co. in the [NumEconCopenhagen Project](https://github.com/NumEconCopenhagen)\n",
    "\n",
    "Packages required for running the notebooks are:\n",
    "- [ConSav](https://pypi.org/project/ConSav/)\n",
    "- [EconModel](https://pypi.org/project/EconModel/)\n",
    "- [matplotlib](https://pypi.org/project/matplotlib/)\n",
    "- [numpy](https://pypi.org/project/numpy/)\n",
    "- [numba](https://pypi.org/project/numba/)\n",
    "- [pandas](https://pypi.org/project/pandas/) ?\n",
    "- [quantecon](https://pypi.org/project/quantecon/) ?"
   ]
  },
  {
   "cell_type": "code",
   "execution_count": 45,
   "metadata": {},
   "outputs": [
    {
     "name": "stdout",
     "output_type": "stream",
     "text": [
      "The autoreload extension is already loaded. To reload it, use:\n",
      "  %reload_ext autoreload\n"
     ]
    }
   ],
   "source": [
    "# imports\n",
    "%load_ext autoreload\n",
    "%autoreload 2\n",
    "\n",
    "import numpy as np\n",
    "import matplotlib.pyplot as plt\n",
    "\n",
    "import numba as nb\n",
    "nb.set_num_threads(4)\n",
    "\n",
    "from HAHModel import HAHModelClass "
   ]
  },
  {
   "cell_type": "markdown",
   "metadata": {},
   "source": [
    "## Baseline model"
   ]
  },
  {
   "cell_type": "code",
   "execution_count": 73,
   "metadata": {},
   "outputs": [],
   "source": [
    "model_baseline = HAHModelClass(\n",
    "    name='baseline',\n",
    "    par={\n",
    "        #'solmethod':'negm',\n",
    "        #'cross_compute':True, # whether to cross-compute MPC if discrete choice is altered\n",
    "        'do_print':True\n",
    "        })\n",
    "\n",
    "#model_baseline.precompile_numba() # solve with very coarse grids\n",
    "#model_baseline.solve() \n",
    "#model_baseline.simulate()"
   ]
  },
  {
   "cell_type": "markdown",
   "metadata": {},
   "source": [
    "### Testing utility functions, tax scheme and mortgage payment"
   ]
  },
  {
   "cell_type": "code",
   "execution_count": 112,
   "metadata": {},
   "outputs": [
    {
     "name": "stdout",
     "output_type": "stream",
     "text": [
      "the full annuity payment is 67215.71\n",
      "the remaining principal is 962784.29\n",
      "the interest payment is 30000.0\n",
      "the principal payment is 37215.71\n",
      "--------------------------------------------\n",
      "the property tax is 0.02\n",
      "the after tax income is 1.57\n",
      "--------------------------------------------\n",
      "utility for a stayer is -3.17\n",
      "utility for a mover is -3.51\n",
      "utility for a renter is -3.55\n"
     ]
    }
   ],
   "source": [
    "import mt\n",
    "import utility\n",
    "from EconModel import jit\n",
    "par = model_baseline.par\n",
    "\n",
    "with jit(model_baseline) as model_jit:\n",
    "    par = model_jit.par\n",
    "    \n",
    "    # mortgage schedule\n",
    "    annuity,pr_rem,interest,pr_pmt = mt.mpmt(10**6,1,20,0,par)\n",
    "\n",
    "    # income and property tax\n",
    "    tax_h = mt.property_tax(1.0,2.0,par)\n",
    "    ytilde = mt.income_tax(2.2,0.8,3.5,0,par)\n",
    "\n",
    "    # utility\n",
    "    u_stay = utility.func(1,2,0,0,5,par)\n",
    "    u_move = utility.func(1,2,1,0,5,par)\n",
    "    u_rent = utility.func(1,2,1,1,5,par)\n",
    "\n",
    "# print output\n",
    "print(f'the full annuity payment is {round(annuity,2)}')\n",
    "print(f'the remaining principal is {round(pr_rem,2)}')\n",
    "print(f'the interest payment is {round(interest,2)}')\n",
    "print(f'the principal payment is {round(pr_pmt,2)}')\n",
    "print('--------------------------------------------')\n",
    "print(f'the property tax is {round(tax_h,2)}')\n",
    "print(f'the after tax income is {round(ytilde,2)}')\n",
    "print('--------------------------------------------')\n",
    "print(f'utility for a stayer is {round(u_stay,2)}')\n",
    "print(f'utility for a mover is {round(u_move,2)}')\n",
    "print(f'utility for a renter is {round(u_rent,2)}')\n"
   ]
  },
  {
   "cell_type": "markdown",
   "metadata": {},
   "source": [
    "### Testing transition rules"
   ]
  },
  {
   "cell_type": "code",
   "execution_count": 122,
   "metadata": {},
   "outputs": [
    {
     "name": "stdout",
     "output_type": "stream",
     "text": [
      "9\n",
      "next period mortgage balance is 1.6480000000000001\n"
     ]
    }
   ],
   "source": [
    "import trans\n",
    "# cash on hand\n",
    "\n",
    "# da periods\n",
    "Tda_next = trans.Tda_plus_func(10)\n",
    "print(Tda_next)\n",
    "\n",
    "with jit(model_baseline) as model_jit:\n",
    "    par = model_jit.par\n",
    "    \n",
    "    # mortgage balance\n",
    "    d_plus = trans.d_plus_func(q=1,h=2,d=1.5,w=0.8,move=1,ref=0,t=5,Td=20,Tda=0,par=par)\n",
    "\n",
    "print(f'next period mortgage balance is {d_plus}') \n",
    "\n",
    "# income states"
   ]
  },
  {
   "cell_type": "code",
   "execution_count": null,
   "metadata": {},
   "outputs": [],
   "source": []
  }
 ],
 "metadata": {
  "kernelspec": {
   "display_name": "Python 3.9.13 ('base')",
   "language": "python",
   "name": "python3"
  },
  "language_info": {
   "codemirror_mode": {
    "name": "ipython",
    "version": 3
   },
   "file_extension": ".py",
   "mimetype": "text/x-python",
   "name": "python",
   "nbconvert_exporter": "python",
   "pygments_lexer": "ipython3",
   "version": "3.9.13"
  },
  "orig_nbformat": 4,
  "vscode": {
   "interpreter": {
    "hash": "6420c7847fcbd6e04abdcd117e52ae50013838c7893f781a18abd791307fbf5c"
   }
  }
 },
 "nbformat": 4,
 "nbformat_minor": 2
}
