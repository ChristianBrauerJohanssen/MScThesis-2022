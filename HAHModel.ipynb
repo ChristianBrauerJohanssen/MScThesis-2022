{
 "cells": [
  {
   "cell_type": "markdown",
   "metadata": {},
   "source": [
    "# Macroprudential Policy and the Housing Market - Replication Notebook\n",
    "This notebook solves and simulates the Heterogenous Agent Housing Market (HAH) model and produces the output contained in my Master's thesis. \n",
    "\n",
    "**Dependencies:**\n",
    "\n",
    "The code structure builds upon the framework developed by Jeppe Druedahl & Co. in the [NumEconCopenhagen Project](https://github.com/NumEconCopenhagen)\n",
    "\n",
    "Packages required for running the notebooks are:\n",
    "- [ConSav](https://pypi.org/project/ConSav/)\n",
    "- [EconModel](https://pypi.org/project/EconModel/)\n",
    "- [matplotlib](https://pypi.org/project/matplotlib/)\n",
    "- [numpy](https://pypi.org/project/numpy/)\n",
    "- [numba](https://pypi.org/project/numba/)\n",
    "- [pandas](https://pypi.org/project/pandas/) ?\n",
    "- [quantecon](https://pypi.org/project/quantecon/) ?"
   ]
  },
  {
   "cell_type": "code",
   "execution_count": 1,
   "metadata": {},
   "outputs": [],
   "source": [
    "# imports\n",
    "%load_ext autoreload\n",
    "%autoreload 2\n",
    "\n",
    "import numpy as np\n",
    "import matplotlib.pyplot as plt\n",
    "\n",
    "import numba as nb\n",
    "nb.set_num_threads(4)\n",
    "\n",
    "from HAHModel import HAHModelClass"
   ]
  },
  {
   "cell_type": "markdown",
   "metadata": {},
   "source": [
    "## Baseline model"
   ]
  },
  {
   "cell_type": "code",
   "execution_count": 3,
   "metadata": {},
   "outputs": [
    {
     "ename": "KeyboardInterrupt",
     "evalue": "",
     "output_type": "error",
     "traceback": [
      "\u001b[0;31m---------------------------------------------------------------------------\u001b[0m",
      "\u001b[0;31mKeyboardInterrupt\u001b[0m                         Traceback (most recent call last)",
      "\u001b[0;32m/var/folders/23/m5wgdyb92cs9fl4fls0nt3xw0000gn/T/ipykernel_13245/2869867701.py\u001b[0m in \u001b[0;36m<cell line: 1>\u001b[0;34m()\u001b[0m\n\u001b[0;32m----> 1\u001b[0;31m model_baseline = HAHModelClass(\n\u001b[0m\u001b[1;32m      2\u001b[0m     \u001b[0mname\u001b[0m\u001b[0;34m=\u001b[0m\u001b[0;34m'baseline'\u001b[0m\u001b[0;34m,\u001b[0m\u001b[0;34m\u001b[0m\u001b[0;34m\u001b[0m\u001b[0m\n\u001b[1;32m      3\u001b[0m     par={\n\u001b[1;32m      4\u001b[0m         \u001b[0;31m#'solmethod':'negm',\u001b[0m\u001b[0;34m\u001b[0m\u001b[0;34m\u001b[0m\u001b[0m\n\u001b[1;32m      5\u001b[0m         \u001b[0;31m#'cross_compute':True, # whether to cross-compute MPC if discrete choice is altered\u001b[0m\u001b[0;34m\u001b[0m\u001b[0;34m\u001b[0m\u001b[0m\n",
      "\u001b[0;32m~/opt/anaconda3/lib/python3.9/site-packages/EconModel/EconModel.py\u001b[0m in \u001b[0;36m__init__\u001b[0;34m(self, name, load, from_dict, skip, **kwargs)\u001b[0m\n\u001b[1;32m     85\u001b[0m                 \u001b[0;31m# vi. allocate\u001b[0m\u001b[0;34m\u001b[0m\u001b[0;34m\u001b[0m\u001b[0m\n\u001b[1;32m     86\u001b[0m                 \u001b[0;32massert\u001b[0m \u001b[0mhasattr\u001b[0m\u001b[0;34m(\u001b[0m\u001b[0mself\u001b[0m\u001b[0;34m,\u001b[0m\u001b[0;34m'allocate'\u001b[0m\u001b[0;34m)\u001b[0m\u001b[0;34m,\u001b[0m \u001b[0;34m'the model must have defined an .allocate() method'\u001b[0m\u001b[0;34m\u001b[0m\u001b[0;34m\u001b[0m\u001b[0m\n\u001b[0;32m---> 87\u001b[0;31m                 \u001b[0mself\u001b[0m\u001b[0;34m.\u001b[0m\u001b[0mallocate\u001b[0m\u001b[0;34m(\u001b[0m\u001b[0;34m)\u001b[0m\u001b[0;34m\u001b[0m\u001b[0;34m\u001b[0m\u001b[0m\n\u001b[0m\u001b[1;32m     88\u001b[0m \u001b[0;34m\u001b[0m\u001b[0m\n\u001b[1;32m     89\u001b[0m         \u001b[0;32melse\u001b[0m\u001b[0;34m:\u001b[0m\u001b[0;34m\u001b[0m\u001b[0;34m\u001b[0m\u001b[0m\n",
      "\u001b[0;32m~/Dropbox/KU - Polit/KA/Thesis/MScThesis-2022/HAHModel.py\u001b[0m in \u001b[0;36mallocate\u001b[0;34m(self)\u001b[0m\n\u001b[1;32m    179\u001b[0m \u001b[0;34m\u001b[0m\u001b[0m\n\u001b[1;32m    180\u001b[0m         \u001b[0mself\u001b[0m\u001b[0;34m.\u001b[0m\u001b[0mcreate_grids\u001b[0m\u001b[0;34m(\u001b[0m\u001b[0;34m)\u001b[0m                             \u001b[0;31m# create grids\u001b[0m\u001b[0;34m\u001b[0m\u001b[0;34m\u001b[0m\u001b[0m\n\u001b[0;32m--> 181\u001b[0;31m         \u001b[0mself\u001b[0m\u001b[0;34m.\u001b[0m\u001b[0msolve_prep\u001b[0m\u001b[0;34m(\u001b[0m\u001b[0;34m)\u001b[0m                               \u001b[0;31m# allocate solution arrays\u001b[0m\u001b[0;34m\u001b[0m\u001b[0;34m\u001b[0m\u001b[0m\n\u001b[0m\u001b[1;32m    182\u001b[0m         \u001b[0mself\u001b[0m\u001b[0;34m.\u001b[0m\u001b[0msimulate_prep\u001b[0m\u001b[0;34m(\u001b[0m\u001b[0;34m)\u001b[0m                            \u001b[0;31m# allocate simulation arrays\u001b[0m\u001b[0;34m\u001b[0m\u001b[0;34m\u001b[0m\u001b[0m\n\u001b[1;32m    183\u001b[0m \u001b[0;34m\u001b[0m\u001b[0m\n",
      "\u001b[0;32m~/Dropbox/KU - Polit/KA/Thesis/MScThesis-2022/HAHModel.py\u001b[0m in \u001b[0;36msolve_prep\u001b[0;34m(self)\u001b[0m\n\u001b[1;32m    320\u001b[0m \u001b[0;34m\u001b[0m\u001b[0m\n\u001b[1;32m    321\u001b[0m         \u001b[0;31m# f. post decision\u001b[0m\u001b[0;34m\u001b[0m\u001b[0;34m\u001b[0m\u001b[0m\n\u001b[0;32m--> 322\u001b[0;31m         \u001b[0msol\u001b[0m\u001b[0;34m.\u001b[0m\u001b[0minv_v_bar_stay\u001b[0m \u001b[0;34m=\u001b[0m \u001b[0mnp\u001b[0m\u001b[0;34m.\u001b[0m\u001b[0mnan\u001b[0m\u001b[0;34m*\u001b[0m\u001b[0mnp\u001b[0m\u001b[0;34m.\u001b[0m\u001b[0mzeros\u001b[0m\u001b[0;34m(\u001b[0m\u001b[0mpost_shape\u001b[0m\u001b[0;34m)\u001b[0m\u001b[0;34m\u001b[0m\u001b[0;34m\u001b[0m\u001b[0m\n\u001b[0m\u001b[1;32m    323\u001b[0m         \u001b[0msol\u001b[0m\u001b[0;34m.\u001b[0m\u001b[0minv_v_bar_ref\u001b[0m \u001b[0;34m=\u001b[0m \u001b[0mnp\u001b[0m\u001b[0;34m.\u001b[0m\u001b[0mnan\u001b[0m\u001b[0;34m*\u001b[0m\u001b[0mnp\u001b[0m\u001b[0;34m.\u001b[0m\u001b[0mzeros\u001b[0m\u001b[0;34m(\u001b[0m\u001b[0mpost_shape\u001b[0m\u001b[0;34m)\u001b[0m\u001b[0;34m\u001b[0m\u001b[0;34m\u001b[0m\u001b[0m\n\u001b[1;32m    324\u001b[0m         \u001b[0msol\u001b[0m\u001b[0;34m.\u001b[0m\u001b[0minv_v_bar_buy\u001b[0m \u001b[0;34m=\u001b[0m \u001b[0mnp\u001b[0m\u001b[0;34m.\u001b[0m\u001b[0mnan\u001b[0m\u001b[0;34m*\u001b[0m\u001b[0mnp\u001b[0m\u001b[0;34m.\u001b[0m\u001b[0mzeros\u001b[0m\u001b[0;34m(\u001b[0m\u001b[0mpost_shape\u001b[0m\u001b[0;34m)\u001b[0m\u001b[0;34m\u001b[0m\u001b[0;34m\u001b[0m\u001b[0m\n",
      "\u001b[0;31mKeyboardInterrupt\u001b[0m: "
     ]
    }
   ],
   "source": [
    "model_baseline = HAHModelClass(\n",
    "    name='baseline',\n",
    "    par={\n",
    "        #'solmethod':'negm',\n",
    "        #'cross_compute':True, # whether to cross-compute MPC if discrete choice is altered\n",
    "        'do_print':True\n",
    "        })\n",
    "\n",
    "#model_baseline.precompile_numba() # solve with very coarse grids\n",
    "#model_baseline.solve() \n",
    "#model_baseline.simulate()"
   ]
  },
  {
   "cell_type": "code",
   "execution_count": 5,
   "metadata": {},
   "outputs": [
    {
     "name": "stdout",
     "output_type": "stream",
     "text": [
      "Modelclass: HAHModelClass\n",
      "Name: baseline\n",
      "\n",
      "namespaces: ['sim', 'sol', 'par']\n",
      "other_attrs: []\n",
      "savefolder: saved\n",
      "cpp_filename: None\n",
      "\n",
      "sim:\n",
      " memory, gb: 0.0\n",
      "\n",
      "sol:\n",
      " c_stay = ndarray with shape = (55, 50, 6, 10, 25, 10, 7) [dtype: float64]\n",
      " inv_v_stay = ndarray with shape = (55, 50, 6, 10, 25, 10, 7) [dtype: float64]\n",
      " inv_marg_u_stay = ndarray with shape = (55, 50, 6, 10, 25, 10, 7) [dtype: float64]\n",
      " c_ref = ndarray with shape = (55, 50, 6, 10, 25, 10, 7) [dtype: float64]\n",
      " d_prime_ref = ndarray with shape = (55, 50, 6, 10, 25, 10, 7) [dtype: float64]\n",
      " Tda_prime_ref = ndarray with shape = (55, 50, 6, 10, 25, 10, 7) [dtype: float64]\n",
      " inv_v_ref = ndarray with shape = (55, 50, 6, 10, 25, 10, 7) [dtype: float64]\n",
      " c_buy = ndarray with shape = (55, 50, 6, 10, 25, 10, 7) [dtype: float64]\n",
      " h_buy = ndarray with shape = (55, 50, 6, 10, 25, 10, 7) [dtype: float64]\n",
      " d_prime_buy = ndarray with shape = (55, 50, 6, 10, 25, 10, 7) [dtype: float64]\n",
      " Tda_prime_buy = ndarray with shape = (55, 50, 6, 10, 25, 10, 7) [dtype: float64]\n",
      " inv_v_buy = ndarray with shape = (55, 50, 6, 10, 25, 10, 7) [dtype: float64]\n",
      " c_rent = ndarray with shape = (55, 50, 7) [dtype: float64]\n",
      " htilde = ndarray with shape = (55, 50, 7) [dtype: float64]\n",
      " inv_v_rent = ndarray with shape = (55, 50, 7) [dtype: float64]\n",
      " inv_marg_u_rent = ndarray with shape = (55, 50, 7) [dtype: float64]\n",
      " inv_v_bar_stay = ndarray with shape = (55, 100, 7, 10, 25, 10, 7) [dtype: float64]\n",
      " inv_v_bar_ref = ndarray with shape = (55, 100, 7, 10, 25, 10, 7) [dtype: float64]\n",
      " inv_v_bar_buy = ndarray with shape = (55, 100, 7, 10, 25, 10, 7) [dtype: float64]\n",
      " inv_v_bar_rent = ndarray with shape = (55, 100, 7, 10, 25, 10, 7) [dtype: float64]\n",
      " q_stay = ndarray with shape = (55, 100, 7, 10, 25, 10, 7) [dtype: float64]\n",
      " q_rent = ndarray with shape = (55, 100, 7, 10, 25, 10, 7) [dtype: float64]\n",
      " c_endo = ndarray with shape = (55, 100, 7, 10, 25, 10, 7) [dtype: float64]\n",
      " m_endo = ndarray with shape = (55, 100, 7, 10, 25, 10, 7) [dtype: float64]\n",
      " c_endo_rent = ndarray with shape = (100, 3) [dtype: float64]\n",
      " m_endo_rent = ndarray with shape = (100, 3) [dtype: float64]\n",
      " inv_v_bar = ndarray with shape = (55, 100, 7, 10, 25, 10, 7) [dtype: float64]\n",
      " memory, gb: 76.2\n",
      "\n",
      "par:\n",
      " beta = 0.965 [float]\n",
      " rho = 2.0 [float]\n",
      " alpha = 1.1 [float]\n",
      " nu = 0.26 [float]\n",
      " phi = 0.85 [float]\n",
      " kappa = 0.34 [float]\n",
      " thetab = 100 [int]\n",
      " K = 7.7 [float]\n",
      " zeta = 0.8 [float]\n",
      " median_income = 350000 [int]\n",
      " Tmin = 25 [int]\n",
      " T = 55 [int]\n",
      " Tr = 40 [int]\n",
      " G = 1.02 [float]\n",
      " L = ndarray with shape = (55,) [dtype: float64]\n",
      " n = ndarray with shape = (55,) [dtype: float64]\n",
      " rho_p = 0.96 [float]\n",
      " sigma_psi = 0.1 [float]\n",
      " Np = 7 [int]\n",
      " sigma_xi = 0.0 [float]\n",
      " Nxi = 1 [int]\n",
      " pi = 0.025 [float]\n",
      " b = 0.2 [float]\n",
      " r = 0.01 [float]\n",
      " r_m = 0.03 [float]\n",
      " r_da = 0.045 [float]\n",
      " omega_ltv = 0.8 [float]\n",
      " omega_dti = 5 [int]\n",
      " Cp_ref = 0.05 [float]\n",
      " Cf_ref = 2 [int]\n",
      " Td_bar = 30 [int]\n",
      " Tda_bar = 10 [int]\n",
      " delta = 0.015 [float]\n",
      " gamma = 0.008 [float]\n",
      " C_buy = 0.06 [float]\n",
      " C_sell = 0.04 [float]\n",
      " tau_y0 = 0.19 [float]\n",
      " tau_y1 = 0.18 [float]\n",
      " tau_h0 = 0.0092 [float]\n",
      " tau_h1 = 0.03 [float]\n",
      " tau_r = 0.3 [float]\n",
      " qh_bar = 8.685714285714285 [float]\n",
      " rd_bar = 0.21428571428571427 [float]\n",
      " Nh = 6 [int]\n",
      " h_min = 1.42 [float]\n",
      " h_max = 5.91 [float]\n",
      " Nhtilde = 3 [int]\n",
      " htilde_min = 1.07 [float]\n",
      " htilde_max = 1.89 [float]\n",
      " Nd = 10 [int]\n",
      " d_max = 5.91 [float]\n",
      " Nd_prime = 80 [int]\n",
      " d_prime_max = 5.91 [float]\n",
      " Nm = 50 [int]\n",
      " m_max = 10.0 [float]\n",
      " Na = 100 [int]\n",
      " a_max = 11.0 [float]\n",
      " simN = 10000 [int]\n",
      " sim_seed = 1995 [int]\n",
      " euler_cutoff = 0.02 [float]\n",
      " t = 0 [int]\n",
      " tol = 1e-12 [float]\n",
      " do_print = True\n",
      " do_print_period = False\n",
      " max_iter_solve = 50000 [int]\n",
      " max_iter_simulate = 50000 [int]\n",
      " q = 1.0 [float]\n",
      " q_r = 0.01305050505050509 [float]\n",
      " grid_h = ndarray with shape = (6,) [dtype: float32]\n",
      " grid_m = ndarray with shape = (50,) [dtype: float64]\n",
      " grid_d = ndarray with shape = (10,) [dtype: float64]\n",
      " grid_d_prime = ndarray with shape = (80,) [dtype: float64]\n",
      " grid_htilde = ndarray with shape = (3,) [dtype: float32]\n",
      " grid_a = ndarray with shape = (100,) [dtype: float64]\n",
      " p_grid = ndarray with shape = (7,) [dtype: float64]\n",
      " p_trans = ndarray with shape = (7, 7) [dtype: float64]\n",
      " p_ergodic = ndarray with shape = (7,) [dtype: float64]\n",
      " p_trans_cumsum = ndarray with shape = (7, 7) [dtype: float64]\n",
      " p_ergodic_cumsum = ndarray with shape = (7,) [dtype: float64]\n",
      " xi_grid = ndarray with shape = (1,) [dtype: float64]\n",
      " xi_weights = ndarray with shape = (1,) [dtype: float64]\n",
      " xi_trans = ndarray with shape = (1, 1) [dtype: float64]\n",
      " Nw = 7 [int]\n",
      " w_grid = ndarray with shape = (7,) [dtype: float64]\n",
      " w_trans = ndarray with shape = (7, 7) [dtype: float64]\n",
      " w_trans_cumsum = ndarray with shape = (7, 7) [dtype: float64]\n",
      " w_ergodic = ndarray with shape = (7,) [dtype: float64]\n",
      " w_ergodic_cumsum = ndarray with shape = (7,) [dtype: float64]\n",
      " w_trans_T = ndarray with shape = (7, 7) [dtype: float64]\n",
      " time_wq = ndarray with shape = (55,) [dtype: float64]\n",
      " time_stay = ndarray with shape = (55,) [dtype: float64]\n",
      " time_ref = ndarray with shape = (55,) [dtype: float64]\n",
      " time_buy = ndarray with shape = (55,) [dtype: float64]\n",
      " time_rent = ndarray with shape = (55,) [dtype: float64]\n",
      " time_full = ndarray with shape = (55,) [dtype: float64]\n",
      " memory, gb: 0.0\n",
      "\n"
     ]
    }
   ],
   "source": [
    "print(model_baseline)"
   ]
  },
  {
   "cell_type": "markdown",
   "metadata": {},
   "source": [
    "### Testing utility functions, tax scheme and mortgage payment"
   ]
  },
  {
   "cell_type": "code",
   "execution_count": 6,
   "metadata": {},
   "outputs": [
    {
     "name": "stdout",
     "output_type": "stream",
     "text": [
      "the full annuity payment is 67215.71\n",
      "the remaining principal is 962784.29\n",
      "the interest payment is 30000.0\n",
      "the principal payment is 37215.71\n",
      "--------------------------------------------\n",
      "the property tax is 0.02\n",
      "the after tax income is 1.57\n",
      "--------------------------------------------\n",
      "utility for a stayer is -3.17\n",
      "marginal stay utility is 0.18\n",
      "utility for a mover is -3.51\n",
      "utility for a renter is -3.55\n"
     ]
    }
   ],
   "source": [
    "import mt\n",
    "import utility\n",
    "from EconModel import jit\n",
    "\n",
    "with jit(model_baseline) as model_jit:\n",
    "    par = model_jit.par\n",
    "    \n",
    "    # mortgage schedule\n",
    "    annuity,pr_rem,interest,pr_pmt = mt.mpmt(10**6,1,20,0,par)\n",
    "\n",
    "    # income and property tax\n",
    "    tax_h = mt.property_tax(1.0,2.0,par)\n",
    "    ytilde = mt.income_tax(2.2,0.8,3.5,0,par)\n",
    "\n",
    "    # utility\n",
    "    u_stay = utility.func(1,2,0,0,5,par)\n",
    "    marg_u_stay = utility.marg_func(2,par,par.T-1)\n",
    "    u_move = utility.func(1,2,1,0,5,par)\n",
    "    u_rent = utility.func(1,2,1,1,5,par)\n",
    "\n",
    "# print output\n",
    "print(f'the full annuity payment is {round(annuity,2)}')\n",
    "print(f'the remaining principal is {round(pr_rem,2)}')\n",
    "print(f'the interest payment is {round(interest,2)}')\n",
    "print(f'the principal payment is {round(pr_pmt,2)}')\n",
    "print('--------------------------------------------')\n",
    "print(f'the property tax is {round(tax_h,2)}')\n",
    "print(f'the after tax income is {round(ytilde,2)}')\n",
    "print('--------------------------------------------')\n",
    "print(f'utility for a stayer is {round(u_stay,2)}')\n",
    "print(f'marginal stay utility is {round(marg_u_stay,2)}')\n",
    "print(f'utility for a mover is {round(u_move,2)}')\n",
    "print(f'utility for a renter is {round(u_rent,2)}')\n"
   ]
  },
  {
   "cell_type": "markdown",
   "metadata": {},
   "source": [
    "### Testing transition rules"
   ]
  },
  {
   "cell_type": "code",
   "execution_count": 7,
   "metadata": {},
   "outputs": [
    {
     "name": "stdout",
     "output_type": "stream",
     "text": [
      "9\n",
      "next period mortgage balance is 1.6480000000000001\n"
     ]
    }
   ],
   "source": [
    "import trans\n",
    "# cash on hand\n",
    "\n",
    "# da periods\n",
    "Tda_next = trans.Tda_plus_func(10)\n",
    "print(Tda_next)\n",
    "\n",
    "with jit(model_baseline) as model_jit:\n",
    "    par = model_jit.par\n",
    "    \n",
    "    # mortgage balance\n",
    "    d_plus = trans.d_plus_func(q=1,h=2,d=1.5,w=0.8,move=1,ref=0,t=5,Td=20,Tda=0,par=par)\n",
    "\n",
    "print(f'next period mortgage balance is {d_plus}') \n",
    "\n",
    "# income states"
   ]
  },
  {
   "cell_type": "markdown",
   "metadata": {},
   "source": [
    "### Test last period solver"
   ]
  },
  {
   "cell_type": "code",
   "execution_count": 13,
   "metadata": {},
   "outputs": [
    {
     "name": "stdout",
     "output_type": "stream",
     "text": [
      "Iteration no. 100\n",
      "Iteration no. 200\n",
      "Iteration no. 300\n",
      "Iteration no. 400\n",
      "Iteration no. 500\n",
      "Iteration no. 600\n",
      "Iteration no. 700\n",
      "Iteration no. 800\n",
      "Iteration no. 900\n",
      "Iteration no. 1000\n",
      "Iteration no. 1100\n",
      "Iteration no. 1200\n",
      "Iteration no. 1300\n",
      "Iteration no. 1400\n",
      "Iteration no. 1500\n",
      "Iteration no. 1600\n",
      "Iteration no. 1700\n",
      "Iteration no. 1800\n",
      "Iteration no. 1900\n",
      "Iteration no. 2000\n",
      "Iteration no. 2100\n",
      "Iteration no. 2200\n",
      "Iteration no. 2300\n",
      "Iteration no. 2400\n",
      "Iteration no. 2500\n",
      "Iteration no. 2600\n",
      "Iteration no. 2700\n",
      "Iteration no. 2800\n",
      "Iteration no. 2900\n",
      "Iteration no. 3000\n",
      "Iteration no. 3100\n",
      "Iteration no. 3200\n",
      "Iteration no. 3300\n",
      "Iteration no. 3400\n",
      "Iteration no. 3500\n",
      "Iteration no. 3600\n",
      "Iteration no. 3700\n",
      "Iteration no. 3800\n",
      "Iteration no. 3900\n",
      "Iteration no. 4000\n",
      "Iteration no. 4100\n",
      "Iteration no. 4200\n",
      "Iteration no. 4300\n",
      "Iteration no. 4400\n",
      "Iteration no. 4500\n",
      "Iteration no. 4600\n",
      "Iteration no. 4700\n",
      "Iteration no. 4800\n",
      "Iteration no. 4900\n",
      "Iteration no. 5000\n",
      "Iteration no. 5100\n",
      "Iteration no. 5200\n",
      "Iteration no. 5300\n",
      "Iteration no. 5400\n",
      "Iteration no. 5500\n",
      "Iteration no. 5600\n",
      "Iteration no. 5700\n",
      "Iteration no. 5800\n",
      "Iteration no. 5900\n",
      "Iteration no. 6000\n",
      "Iteration no. 6100\n",
      "Iteration no. 6200\n",
      "Iteration no. 6300\n",
      "Iteration no. 6400\n",
      "Iteration no. 6500\n",
      "Iteration no. 6600\n",
      "Iteration no. 6700\n",
      "Iteration no. 6800\n",
      "Iteration no. 6900\n",
      "Iteration no. 7000\n",
      "Iteration no. 7100\n",
      "Iteration no. 7200\n",
      "Iteration no. 7300\n",
      "Iteration no. 7400\n",
      "Iteration no. 7500\n",
      "Iteration no. 7600\n",
      "Iteration no. 7700\n",
      "Iteration no. 7800\n",
      "Iteration no. 7900\n",
      "Iteration no. 8000\n",
      "Iteration no. 8100\n",
      "Iteration no. 8200\n",
      "Iteration no. 8300\n",
      "Iteration no. 8400\n",
      "Iteration no. 8500\n",
      "Iteration no. 8600\n",
      "Iteration no. 8700\n",
      "Iteration no. 8800\n",
      "Iteration no. 8900\n",
      "Iteration no. 9000\n",
      "Iteration no. 9100\n",
      "Iteration no. 9200\n",
      "Iteration no. 9300\n",
      "Iteration no. 9400\n",
      "Iteration no. 9500\n",
      "Iteration no. 9600\n",
      "Iteration no. 9700\n",
      "Iteration no. 9800\n",
      "Iteration no. 9900\n",
      "Iteration no. 10000\n"
     ]
    }
   ],
   "source": [
    "#own_shape = (par.T,par.Nm,par.Nh,par.Nd,par.Td_bar,par.Tda_bar,par.Nw)\n",
    "#rent_shape = (par.T,par.Nm,par.Nw)\n",
    "#post_shape = (par.T-1,par.Na,par.Nh,par.Nd,par.Td_bar,par.Tda_bar,par.Nw)\n",
    "import trans\n",
    "from HHproblems import last_period_v_bar_q, solve_stay\n",
    "\n",
    "t = par.T-1\n",
    "\n",
    "with jit(model_baseline) as model: \n",
    "    sol = model.sol\n",
    "    par = model.par\n",
    "    last_period_v_bar_q(t,sol,par)\n",
    "    solve_stay(t,sol,par)\n",
    "    #assert np.all((sol.c_stay[t] >= 0) & (np.isnan(sol.c_stay[t]) == False))\n",
    "    #assert np.all((sol.inv_v_bar[t] >= 0) & (np.isnan(sol.inv_v_bar[t]) == False))\n",
    "\n"
   ]
  },
  {
   "cell_type": "code",
   "execution_count": 13,
   "metadata": {},
   "outputs": [
    {
     "data": {
      "text/plain": [
       "9490600"
      ]
     },
     "execution_count": 13,
     "metadata": {},
     "output_type": "execute_result"
    }
   ],
   "source": [
    "#assert np.all((sol.inv_v_stay[t] >= 0) & (np.isnan(sol.inv_v_stay[t]) == False))\n",
    "#model_baseline.sol.inv_v_stay[par.T-1,:,0,0,0,0,0]\n",
    "\n",
    "np.count_nonzero(np.isnan(sol.inv_v_bar[t]))\n",
    "#sol.inv_v_bar[t,1,2,0,0,0,6]\n",
    "#sol.inv_v_bar[t].shape\n",
    "#-1/par.beta*utility.bequest_func(trans.ab_plus_func(1.5,par.grid_h[3],par),par,t)\n",
    "\n",
    "#par.grid_a.round(1)"
   ]
  },
  {
   "cell_type": "code",
   "execution_count": 18,
   "metadata": {},
   "outputs": [
    {
     "data": {
      "text/plain": [
       "(50, 6, 10, 25, 10, 7)"
      ]
     },
     "execution_count": 18,
     "metadata": {},
     "output_type": "execute_result"
    }
   ],
   "source": [
    "#1/utility.marg_func(model_baseline.sol.c_stay[par.T-1,3,0,0,0,0,6],par,par.T-1)\n",
    "\n",
    "model_baseline.sol.c_stay[t].shape"
   ]
  },
  {
   "cell_type": "code",
   "execution_count": 17,
   "metadata": {},
   "outputs": [
    {
     "data": {
      "text/plain": [
       "array([[0.89, 0.11, 0.01, 0.  , 0.  , 0.  , 0.  ],\n",
       "       [0.02, 0.89, 0.09, 0.  , 0.  , 0.  , 0.  ],\n",
       "       [0.  , 0.04, 0.89, 0.07, 0.  , 0.  , 0.  ],\n",
       "       [0.  , 0.  , 0.05, 0.89, 0.05, 0.  , 0.  ],\n",
       "       [0.  , 0.  , 0.  , 0.07, 0.89, 0.04, 0.  ],\n",
       "       [0.  , 0.  , 0.  , 0.  , 0.09, 0.89, 0.02],\n",
       "       [0.  , 0.  , 0.  , 0.  , 0.01, 0.11, 0.89]])"
      ]
     },
     "execution_count": 17,
     "metadata": {},
     "output_type": "execute_result"
    }
   ],
   "source": [
    "model_baseline.par.w_grid \n",
    "model_baseline.par.w_trans.round(2)"
   ]
  },
  {
   "cell_type": "code",
   "execution_count": null,
   "metadata": {},
   "outputs": [],
   "source": []
  }
 ],
 "metadata": {
  "kernelspec": {
   "display_name": "Python 3.9.13 ('base')",
   "language": "python",
   "name": "python3"
  },
  "language_info": {
   "codemirror_mode": {
    "name": "ipython",
    "version": 3
   },
   "file_extension": ".py",
   "mimetype": "text/x-python",
   "name": "python",
   "nbconvert_exporter": "python",
   "pygments_lexer": "ipython3",
   "version": "3.9.13"
  },
  "orig_nbformat": 4,
  "vscode": {
   "interpreter": {
    "hash": "6420c7847fcbd6e04abdcd117e52ae50013838c7893f781a18abd791307fbf5c"
   }
  }
 },
 "nbformat": 4,
 "nbformat_minor": 2
}
