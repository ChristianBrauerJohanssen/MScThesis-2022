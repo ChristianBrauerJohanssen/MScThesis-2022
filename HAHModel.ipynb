{
 "cells": [
  {
   "cell_type": "markdown",
   "metadata": {},
   "source": [
    "# Macroprudential Policy and the Housing Market - Replication Notebook\n",
    "This notebook solves and simulates the Heterogenous Agent Housing Market (HAH) model and produces the output contained in my Master's thesis. \n",
    "\n",
    "**Dependencies:**\n",
    "\n",
    "The code structure builds upon the framework developed by Jeppe Druedahl & Co. in the [NumEconCopenhagen Project](https://github.com/NumEconCopenhagen)\n",
    "\n",
    "Packages required for running the notebooks are:\n",
    "- [ConSav](https://pypi.org/project/ConSav/)\n",
    "- [EconModel](https://pypi.org/project/EconModel/)\n",
    "- [matplotlib](https://pypi.org/project/matplotlib/)\n",
    "- [numpy](https://pypi.org/project/numpy/)\n",
    "- [numba](https://pypi.org/project/numba/)\n",
    "- [pandas](https://pypi.org/project/pandas/) ?\n",
    "- [quantecon](https://pypi.org/project/quantecon/) ?"
   ]
  },
  {
   "cell_type": "code",
   "execution_count": 1,
   "metadata": {},
   "outputs": [],
   "source": [
    "# imports\n",
    "%load_ext autoreload\n",
    "%autoreload 2\n",
    "\n",
    "import numpy as np\n",
    "import matplotlib.pyplot as plt\n",
    "\n",
    "import numba as nb\n",
    "nb.set_num_threads(4)\n",
    "\n",
    "from HAHModel import HAHModelClass"
   ]
  },
  {
   "cell_type": "markdown",
   "metadata": {},
   "source": [
    "## Baseline model"
   ]
  },
  {
   "cell_type": "code",
   "execution_count": 10,
   "metadata": {},
   "outputs": [],
   "source": [
    "model_baseline = HAHModelClass(\n",
    "    name='baseline',\n",
    "    par={\n",
    "        #'solmethod':'negm',\n",
    "        #'cross_compute':True, # whether to cross-compute MPC if discrete choice is altered\n",
    "        'do_print':True\n",
    "        })\n",
    "\n",
    "#model_baseline.precompile_numba() # solve with very coarse grids\n",
    "#model_baseline.solve() \n",
    "#model_baseline.simulate()"
   ]
  },
  {
   "cell_type": "markdown",
   "metadata": {},
   "source": [
    "### Testing utility functions, tax scheme and mortgage payment"
   ]
  },
  {
   "cell_type": "code",
   "execution_count": 11,
   "metadata": {},
   "outputs": [
    {
     "name": "stdout",
     "output_type": "stream",
     "text": [
      "the full annuity payment is 67215.71\n",
      "the remaining principal is 962784.29\n",
      "the interest payment is 30000.0\n",
      "the principal payment is 37215.71\n",
      "--------------------------------------------\n",
      "the property tax is 0.02\n",
      "the after tax income is 1.57\n",
      "--------------------------------------------\n",
      "utility for a stayer is -3.17\n",
      "marginal stay utility is 0.18\n",
      "utility for a mover is -3.51\n",
      "utility for a renter is -3.55\n"
     ]
    }
   ],
   "source": [
    "import mt\n",
    "import utility\n",
    "from EconModel import jit\n",
    "\n",
    "with jit(model_baseline) as model_jit:\n",
    "    par = model_jit.par\n",
    "    \n",
    "    # mortgage schedule\n",
    "    annuity,pr_rem,interest,pr_pmt = mt.mpmt(10**6,1,20,0,par)\n",
    "\n",
    "    # income and property tax\n",
    "    tax_h = mt.property_tax(1.0,2.0,par)\n",
    "    ytilde = mt.income_tax(2.2,0.8,3.5,0,par)\n",
    "\n",
    "    # utility\n",
    "    u_stay = utility.func(1,2,0,0,5,par)\n",
    "    marg_u_stay = utility.marg_func(2,par,par.T-1)\n",
    "    u_move = utility.func(1,2,1,0,5,par)\n",
    "    u_rent = utility.func(1,2,1,1,5,par)\n",
    "\n",
    "# print output\n",
    "print(f'the full annuity payment is {round(annuity,2)}')\n",
    "print(f'the remaining principal is {round(pr_rem,2)}')\n",
    "print(f'the interest payment is {round(interest,2)}')\n",
    "print(f'the principal payment is {round(pr_pmt,2)}')\n",
    "print('--------------------------------------------')\n",
    "print(f'the property tax is {round(tax_h,2)}')\n",
    "print(f'the after tax income is {round(ytilde,2)}')\n",
    "print('--------------------------------------------')\n",
    "print(f'utility for a stayer is {round(u_stay,2)}')\n",
    "print(f'marginal stay utility is {round(marg_u_stay,2)}')\n",
    "print(f'utility for a mover is {round(u_move,2)}')\n",
    "print(f'utility for a renter is {round(u_rent,2)}')\n"
   ]
  },
  {
   "cell_type": "markdown",
   "metadata": {},
   "source": [
    "### Testing transition rules"
   ]
  },
  {
   "cell_type": "code",
   "execution_count": 12,
   "metadata": {},
   "outputs": [
    {
     "name": "stdout",
     "output_type": "stream",
     "text": [
      "9\n",
      "next period mortgage balance is 1.6480000000000001\n"
     ]
    }
   ],
   "source": [
    "import trans\n",
    "# cash on hand\n",
    "\n",
    "# da periods\n",
    "Tda_next = trans.Tda_plus_func(10)\n",
    "print(Tda_next)\n",
    "\n",
    "with jit(model_baseline) as model_jit:\n",
    "    par = model_jit.par\n",
    "    \n",
    "    # mortgage balance\n",
    "    d_plus = trans.d_plus_func(q=1,h=2,d=1.5,w=0.8,move=1,ref=0,t=5,Td=20,Tda=0,par=par)\n",
    "\n",
    "print(f'next period mortgage balance is {d_plus}') \n",
    "\n",
    "# income states"
   ]
  },
  {
   "cell_type": "markdown",
   "metadata": {},
   "source": [
    "### Test last period solver"
   ]
  },
  {
   "cell_type": "code",
   "execution_count": 42,
   "metadata": {},
   "outputs": [
    {
     "ename": "",
     "evalue": "",
     "output_type": "error",
     "traceback": [
      "\u001b[1;31mCanceled future for execute_request message before replies were done"
     ]
    },
    {
     "ename": "",
     "evalue": "",
     "output_type": "error",
     "traceback": [
      "\u001b[1;31mThe Kernel crashed while executing code in the the current cell or a previous cell. Please review the code in the cell(s) to identify a possible cause of the failure. Click <a href='https://aka.ms/vscodeJupyterKernelCrash'>here</a> for more info. View Jupyter <a href='command:jupyter.viewOutput'>log</a> for further details."
     ]
    }
   ],
   "source": [
    "#own_shape = (par.T,par.Nm,par.Nh,par.Nd,par.Td_bar,par.Tda_bar,par.Nw)\n",
    "#rent_shape = (par.T,par.Nm,par.Nw)\n",
    "#post_shape = (par.T-1,par.Na,par.Nh,par.Nd,par.Td_bar,par.Tda_bar,par.Nw)\n",
    "import trans\n",
    "from HHproblems import last_period_v_bar_q, solve_stay, solve_rent, postdecision_compute_v_bar_q, solve_ref\n",
    "\n",
    "t = par.T-1\n",
    "\n",
    "with jit(model_baseline) as model: \n",
    "    sol = model.sol\n",
    "    par = model.par\n",
    "    #last_period_v_bar_q(t,sol,par)\n",
    "    #solve_stay(t,sol,par)\n",
    "    solve_ref(t,sol,par)\n",
    "    #solve_rent(t,sol,par)\n",
    "    #postdecision_compute_v_bar_q(t,sol,par)\n",
    "    #assert np.all((sol.c_stay[t] >= 0) & (np.isnan(sol.c_stay[t]) == False))\n",
    "    #assert np.all((sol.inv_v_bar[t] >= 0) & (np.isnan(sol.inv_v_bar[t]) == False))\n",
    "\n"
   ]
  },
  {
   "cell_type": "code",
   "execution_count": 8,
   "metadata": {},
   "outputs": [
    {
     "data": {
      "text/plain": [
       "10469200"
      ]
     },
     "execution_count": 8,
     "metadata": {},
     "output_type": "execute_result"
    }
   ],
   "source": [
    "#assert np.all((sol.inv_v_stay[t] >= 0) & (np.isnan(sol.inv_v_stay[t]) == False))\n",
    "#model_baseline.sol.inv_v_stay[par.T-1,:,0,0,0,0,0]\n",
    "\n",
    "np.count_nonzero(np.isnan(sol.inv_v_bar[t]))\n",
    "#sol.inv_v_bar[t,1,2,0,0,0,6]\n",
    "#sol.inv_v_bar[t].shape\n",
    "#-1/par.beta*utility.bequest_func(trans.ab_plus_func(1.5,par.grid_h[3],par),par,t)\n",
    "\n",
    "#par.grid_a.round(1)"
   ]
  },
  {
   "cell_type": "code",
   "execution_count": 10,
   "metadata": {},
   "outputs": [
    {
     "data": {
      "text/plain": [
       "array([nan])"
      ]
     },
     "execution_count": 10,
     "metadata": {},
     "output_type": "execute_result"
    }
   ],
   "source": [
    "#1/utility.marg_func(model_baseline.sol.c_stay[par.T-1,3,0,0,0,0,6],par,par.T-1)\n",
    "\n",
    "#model_baseline.sol.c_stay[t].shape\n",
    "\n",
    "np.nan*np.zeros(1)"
   ]
  },
  {
   "cell_type": "code",
   "execution_count": 17,
   "metadata": {},
   "outputs": [
    {
     "data": {
      "text/plain": [
       "array([[0.89, 0.11, 0.01, 0.  , 0.  , 0.  , 0.  ],\n",
       "       [0.02, 0.89, 0.09, 0.  , 0.  , 0.  , 0.  ],\n",
       "       [0.  , 0.04, 0.89, 0.07, 0.  , 0.  , 0.  ],\n",
       "       [0.  , 0.  , 0.05, 0.89, 0.05, 0.  , 0.  ],\n",
       "       [0.  , 0.  , 0.  , 0.07, 0.89, 0.04, 0.  ],\n",
       "       [0.  , 0.  , 0.  , 0.  , 0.09, 0.89, 0.02],\n",
       "       [0.  , 0.  , 0.  , 0.  , 0.01, 0.11, 0.89]])"
      ]
     },
     "execution_count": 17,
     "metadata": {},
     "output_type": "execute_result"
    }
   ],
   "source": [
    "model_baseline.par.w_grid \n",
    "model_baseline.par.w_trans.round(2)"
   ]
  },
  {
   "cell_type": "code",
   "execution_count": null,
   "metadata": {},
   "outputs": [],
   "source": []
  }
 ],
 "metadata": {
  "kernelspec": {
   "display_name": "Python 3.9.13 ('base')",
   "language": "python",
   "name": "python3"
  },
  "language_info": {
   "codemirror_mode": {
    "name": "ipython",
    "version": 3
   },
   "file_extension": ".py",
   "mimetype": "text/x-python",
   "name": "python",
   "nbconvert_exporter": "python",
   "pygments_lexer": "ipython3",
   "version": "3.9.13"
  },
  "orig_nbformat": 4,
  "vscode": {
   "interpreter": {
    "hash": "6420c7847fcbd6e04abdcd117e52ae50013838c7893f781a18abd791307fbf5c"
   }
  }
 },
 "nbformat": 4,
 "nbformat_minor": 2
}
