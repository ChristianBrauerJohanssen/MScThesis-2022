{
 "cells": [
  {
   "cell_type": "markdown",
   "metadata": {},
   "source": [
    "# Macroprudential Policy and the Housing Market\n",
    "This notebook solves and simulates the Heterogenous Agent Housing Market (HAH) model and produces the output contained in my Master's thesis. \n",
    "\n",
    "**Dependencies:**\n",
    "\n",
    "The code structure builds upon the framework developed by Jeppe Druedahl & Co. in the [NumEconCopenhagen Project](https://github.com/NumEconCopenhagen)\n",
    "\n",
    "Packages required for running the notebooks are:\n",
    "- [ConSav](https://pypi.org/project/ConSav/)\n",
    "- [EconModel](https://pypi.org/project/EconModel/)\n",
    "- [matplotlib](https://pypi.org/project/matplotlib/)\n",
    "- [numpy](https://pypi.org/project/numpy/)\n",
    "- [numba](https://pypi.org/project/numba/)"
   ]
  },
  {
   "cell_type": "code",
   "execution_count": 136,
   "metadata": {},
   "outputs": [
    {
     "name": "stdout",
     "output_type": "stream",
     "text": [
      "The autoreload extension is already loaded. To reload it, use:\n",
      "  %reload_ext autoreload\n"
     ]
    }
   ],
   "source": [
    "# imports\n",
    "%load_ext autoreload\n",
    "%autoreload 2\n",
    "\n",
    "import numpy as np\n",
    "import matplotlib.pyplot as plt\n",
    "import numba as nb\n",
    "nb.set_num_threads(4)\n",
    "\n",
    "from HAHModel import HAHModelClass"
   ]
  },
  {
   "cell_type": "markdown",
   "metadata": {},
   "source": [
    "## Baseline model"
   ]
  },
  {
   "cell_type": "code",
   "execution_count": 137,
   "metadata": {},
   "outputs": [],
   "source": [
    "# initialise an instance of baseline model\n",
    "model_baseline = HAHModelClass(\n",
    "    name='baseline',\n",
    "    par={\n",
    "        'do_print':True\n",
    "        })\n",
    "\n",
    "#model_baseline.precompile_numba() # solve model with very coarse grids --> speed gains\n"
   ]
  },
  {
   "cell_type": "code",
   "execution_count": null,
   "metadata": {},
   "outputs": [],
   "source": [
    "model_baseline.solve(do_assert=True)\n",
    "#model_baseline.save()\n",
    "#model_baseline.simulate()"
   ]
  },
  {
   "cell_type": "markdown",
   "metadata": {},
   "source": [
    "### Check solution array output for NaNs and zeros"
   ]
  },
  {
   "cell_type": "code",
   "execution_count": 132,
   "metadata": {},
   "outputs": [],
   "source": [
    "par = model_baseline.par\n",
    "sol = model_baseline.sol \n",
    "t = 1\n",
    "Td_len = np.fmin(t+2,par.Td_shape)\n",
    "Tda_len = np.fmin(par.Tda_bar,par.T-t+1)\n",
    "\n",
    "## sanity check\n",
    "#print(f't={t}, Tdlen={Td_len}, Tda_len={Tda_len}')\n",
    "\n",
    "#\n",
    "## check NaNs in relevant part of sol.q\n",
    "#nan_mat_q = np.argwhere(np.isnan(sol.q[t,:,:,0:Td_len,0:Tda_len,:,:]))\n",
    "#print(f'size of sol.q at t={t} is {sol.q[t,:,:,0:Td_len,0:Tda_len,:,:].size}')\n",
    "#print(f'there are {nan_mat_q.shape[0]} NaN entries')\n",
    "#print(f'the nan indices are {nan_mat_q}')\n",
    "#\n",
    "## check zero or negative entries in relevant part of sol.q\n",
    "#zero_mat_q = np.argwhere(sol.q[t,:,:,0:Td_len,0:Tda_len,:,:] <= 0)\n",
    "#print(f'size of sol.q at t={t} with Tda in 0,1,2 is {sol.q[t,:,:,0:Td_len,0:Tda_len,:,:].size}')\n",
    "#print(f'there are {zero_mat_q.shape[0]} zero or negative entries')\n",
    "#print(f'the nan indices are {zero_mat_q}')\n",
    "#\n",
    "########################################################################################################\n",
    "#\n",
    "## check for NaNs in relevant part of inv_v_bar\n",
    "#nan_mat_inv_v_bar = np.argwhere(np.isnan(sol.inv_v_bar[t,:,:,0:Td_len,0:Tda_len,:,:]))\n",
    "#print(f'size of sol.inv_v_bar at t={t} is {sol.inv_v_bar[t,:,:,0:Td_len,0:Tda_len,:,:].size}')\n",
    "#print(f'there are {nan_mat_inv_v_bar.shape[0]} NaN entries')\n",
    "#print(f'the nan indices are {nan_mat_inv_v_bar}')\n",
    "#\n",
    "## check zero or negative entries in relevant part of sol.q\n",
    "#zero_mat_inv_v_bar = np.argwhere(sol.inv_v_bar[t,:,:,0:Td_len,0:Tda_len,:,:] <= 0)\n",
    "#print(f'size of sol.inv_v_bar at t={t} with Tda in 0,1,2 is {sol.inv_v_bar[t,:,:,0:Td_len,0:Tda_len,:,:].size}')\n",
    "#print(f'there are {zero_mat_inv_v_bar.shape[0]} zero or negative entries')\n",
    "#print(f'the nan indices are {zero_mat_inv_v_bar}')\n",
    "#\n",
    "#######################################################################################################\n",
    "#\n",
    "## check for NaNs in relevant part of c_stay\n",
    "#nan_mat_c_stay = np.argwhere(np.isnan(sol.c_stay[t,:,:,0:Td_len,0:Tda_len,:,1:-1]))\n",
    "#print(f'size of sol.c_stay at t={t} is {sol.c_stay[t,:,:,0:Td_len,0:Tda_len,:,:].size}')\n",
    "#print(f'there are {nan_mat_c_stay.shape[0]} NaN entries')\n",
    "#print(f'the nan indices are {nan_mat_c_stay}')\n",
    "\n",
    "## check for zeros in relevant part of c_stay\n",
    "#zero_mat_c_stay = np.argwhere(sol.c_stay[t,:,:,0:Td_len,0:Tda_len,:,:] == 0)\n",
    "#print(f'size of sol.c_stay at t={t} is {sol.c_stay[t,:,:,0:Td_len,0:Tda_len,:,:].size}')\n",
    "#print(f'there are {zero_mat_c_stay.shape[0]} zero entries')\n",
    "#print(f'the indices are {zero_mat_c_stay}')"
   ]
  },
  {
   "cell_type": "markdown",
   "metadata": {},
   "source": [
    "### Test solving the household problem for a few periods"
   ]
  },
  {
   "cell_type": "code",
   "execution_count": 131,
   "metadata": {},
   "outputs": [
    {
     "name": "stdout",
     "output_type": "stream",
     "text": [
      "post decision is done\n",
      "stay is done\n",
      "refinance is done\n",
      "buy is done\n",
      "rent is done\n",
      "start solving t=1\n",
      "post decision is done\n",
      "stay is done\n",
      "refinance is done\n",
      "buy is done\n",
      "rent is done\n",
      "start solving t=0\n",
      "post decision is done\n",
      "stay is done\n",
      "refinance is done\n",
      "buy is done\n",
      "rent is done\n"
     ]
    }
   ],
   "source": [
    "import mt\n",
    "import trans\n",
    "import HHproblems as hhp\n",
    "from EconModel import jit\n",
    "\n",
    "par = model_baseline.par\n",
    "\n",
    "t = 2\n",
    "\n",
    "with jit(model_baseline) as model: \n",
    "    sol = model.sol\n",
    "    par = model.par\n",
    "    hhp.postdecision_compute_v_bar_q(t,sol,par)\n",
    "    print('post decision is done')\n",
    "    hhp.solve_stay(t,sol,par)\n",
    "    print('stay is done')\n",
    "    hhp.solve_ref(t,sol,par)\n",
    "    print('refinance is done')\n",
    "    hhp.solve_buy(t,sol,par)\n",
    "    print('buy is done')\n",
    "    hhp.solve_rent(t,sol,par)\n",
    "    print('rent is done')\n",
    "    print('start solving t=1')\n",
    "    t = 1\n",
    "    hhp.postdecision_compute_v_bar_q(t,sol,par)\n",
    "    print('post decision is done')\n",
    "    hhp.solve_stay(t,sol,par)\n",
    "    print('stay is done')\n",
    "    hhp.solve_ref(t,sol,par)\n",
    "    print('refinance is done')\n",
    "    hhp.solve_buy(t,sol,par)\n",
    "    print('buy is done')\n",
    "    hhp.solve_rent(t,sol,par)\n",
    "    print('rent is done')\n",
    "    print('start solving t=0')\n",
    "    t = 0\n",
    "    hhp.postdecision_compute_v_bar_q(t,sol,par)\n",
    "    print('post decision is done')\n",
    "    hhp.solve_stay(t,sol,par)\n",
    "    print('stay is done')\n",
    "    hhp.solve_ref(t,sol,par)\n",
    "    print('refinance is done')\n",
    "    hhp.solve_buy(t,sol,par)\n",
    "    print('buy is done')\n",
    "    hhp.solve_rent(t,sol,par)\n",
    "    print('rent is done')\n",
    "    "
   ]
  },
  {
   "cell_type": "code",
   "execution_count": 5,
   "metadata": {},
   "outputs": [
    {
     "name": "stdout",
     "output_type": "stream",
     "text": [
      "(55, 7, 10, 24, 11, 7, 10)\n",
      "(55, 6, 10, 24, 11, 7, 10)\n"
     ]
    }
   ],
   "source": [
    "sol = model_baseline.sol \n",
    "par = model_baseline.par\n",
    "t = par.T-2\n",
    "\n",
    "print(sol.c_buy.shape)\n",
    "print(sol.c_stay.shape)\n",
    "\n",
    "#for i_ht in range(par.Nhtilde):\n",
    "#    print(sol.inv_v_rent[t+1,:,i_ht,:])"
   ]
  },
  {
   "cell_type": "markdown",
   "metadata": {},
   "source": [
    "### Testing utility functions, tax scheme and mortgage payment"
   ]
  },
  {
   "cell_type": "code",
   "execution_count": 16,
   "metadata": {},
   "outputs": [
    {
     "name": "stdout",
     "output_type": "stream",
     "text": [
      "the full annuity payment is 67215.71\n",
      "the remaining principal is 962784.29\n",
      "the interest payment is 30000.0\n",
      "the principal payment is 37215.71\n",
      "--------------------------------------------\n",
      "the property tax is 0.02\n",
      "the after tax income is 1.57\n",
      "--------------------------------------------\n",
      "utility for a stayer is -3.17\n",
      "marginal stay utility is 0.18\n",
      "utility for a mover is -3.51\n",
      "utility for a renter is -3.55\n"
     ]
    }
   ],
   "source": [
    "import mt\n",
    "import utility\n",
    "\n",
    "with jit(model_baseline) as model_jit:\n",
    "    par = model_jit.par\n",
    "    \n",
    "    # mortgage schedule\n",
    "    annuity,pr_rem,interest,pr_pmt = mt.mpmt(10**6,1,20,0,par)\n",
    "\n",
    "    # income and property tax\n",
    "    tax_h = mt.property_tax(1.0,2.0,par)\n",
    "    ytilde = mt.income_aftertax(2.2,0.8,3.5,0,par)\n",
    "\n",
    "    # utility\n",
    "    u_stay = utility.func(1,2,0,0,5,par)\n",
    "    marg_u_stay = utility.marg_func(2,par,par.T-1)\n",
    "    u_move = utility.func(1,2,1,0,5,par)\n",
    "    u_rent = utility.func(1,2,1,1,5,par)\n",
    "\n",
    "# print output\n",
    "print(f'the full annuity payment is {round(annuity,2)}')\n",
    "print(f'the remaining principal is {round(pr_rem,2)}')\n",
    "print(f'the interest payment is {round(interest,2)}')\n",
    "print(f'the principal payment is {round(pr_pmt,2)}')\n",
    "print('--------------------------------------------')\n",
    "print(f'the property tax is {round(tax_h,2)}')\n",
    "print(f'the after tax income is {round(ytilde,2)}')\n",
    "print('--------------------------------------------')\n",
    "print(f'utility for a stayer is {round(u_stay,2)}')\n",
    "print(f'marginal stay utility is {round(marg_u_stay,2)}')\n",
    "print(f'utility for a mover is {round(u_move,2)}')\n",
    "print(f'utility for a renter is {round(u_rent,2)}')\n"
   ]
  },
  {
   "cell_type": "markdown",
   "metadata": {},
   "source": [
    "### Testing transition rules"
   ]
  },
  {
   "cell_type": "code",
   "execution_count": 34,
   "metadata": {},
   "outputs": [
    {
     "name": "stdout",
     "output_type": "stream",
     "text": [
      "9\n",
      "next period mortgage balance is 1.4441764386047113\n",
      "m_plus_net_stay is [0.9032 0.9032 0.9032 0.9032 0.9032]\n"
     ]
    }
   ],
   "source": [
    "# da periods\n",
    "Tda_next = trans.Tda_plus_func(10)\n",
    "print(Tda_next)\n",
    "\n",
    "m_plus_net_stay = np.zeros(5)\n",
    "m_plus = np.ones(5)\n",
    "\n",
    "with jit(model_baseline) as model:\n",
    "    par = model.par\n",
    "   \n",
    "    # mortgage balance\n",
    "    d_plus = trans.d_plus_func(q=1,h=2,d=1.5,w=0.8,t=5,Td=20,Tda=0,par=par)\n",
    "    for i in range(5):\n",
    "        m_plus_net_stay[i] = trans.m_to_mnet_stay(m_plus=m_plus[i],h=4,par=par)\n",
    "\n",
    "print(f'next period mortgage balance is {d_plus}') \n",
    "print(f'm_plus_net_stay is {m_plus_net_stay}')\n",
    "\n",
    "# income states"
   ]
  },
  {
   "cell_type": "markdown",
   "metadata": {},
   "source": [
    "### Sanity checks"
   ]
  },
  {
   "cell_type": "code",
   "execution_count": 41,
   "metadata": {},
   "outputs": [
    {
     "name": "stdout",
     "output_type": "stream",
     "text": [
      "[0.         0.04671375 0.05580381 0.05945007 0.06213019 0.0660677\n",
      " 0.0718353  0.08015892 0.09191713 0.10803498]\n",
      "2\n",
      "[0.         0.04687412 0.05603282 0.05971006 0.06241427 0.06638901\n",
      " 0.0722153  0.08063236 0.09254017 0.10889668]\n",
      "2\n",
      "[0.         0.04703268 0.05625954 0.05996758 0.06269579 0.06670761\n",
      " 0.07259242 0.08110277 0.09316028 0.10975635]\n",
      "2\n"
     ]
    }
   ],
   "source": [
    "sol = model_baseline.sol\n",
    "par = model_baseline.par\n",
    "t = par.T-2\n",
    "for i_ht in range(3):\n",
    "    print(sol.inv_v_rent[t+1,:,i_ht,2])\n",
    "    print(sol.inv_v_rent[t+1,:,i_ht,:].ndim)\n"
   ]
  },
  {
   "cell_type": "code",
   "execution_count": 17,
   "metadata": {},
   "outputs": [
    {
     "data": {
      "text/plain": [
       "array([[0.89, 0.11, 0.01, 0.  , 0.  , 0.  , 0.  ],\n",
       "       [0.02, 0.89, 0.09, 0.  , 0.  , 0.  , 0.  ],\n",
       "       [0.  , 0.04, 0.89, 0.07, 0.  , 0.  , 0.  ],\n",
       "       [0.  , 0.  , 0.05, 0.89, 0.05, 0.  , 0.  ],\n",
       "       [0.  , 0.  , 0.  , 0.07, 0.89, 0.04, 0.  ],\n",
       "       [0.  , 0.  , 0.  , 0.  , 0.09, 0.89, 0.02],\n",
       "       [0.  , 0.  , 0.  , 0.  , 0.01, 0.11, 0.89]])"
      ]
     },
     "execution_count": 17,
     "metadata": {},
     "output_type": "execute_result"
    }
   ],
   "source": [
    "model_baseline.par.w_grid \n",
    "model_baseline.par.w_trans.round(2)"
   ]
  },
  {
   "cell_type": "code",
   "execution_count": null,
   "metadata": {},
   "outputs": [],
   "source": []
  }
 ],
 "metadata": {
  "kernelspec": {
   "display_name": "Python 3.9.13 ('base')",
   "language": "python",
   "name": "python3"
  },
  "language_info": {
   "codemirror_mode": {
    "name": "ipython",
    "version": 3
   },
   "file_extension": ".py",
   "mimetype": "text/x-python",
   "name": "python",
   "nbconvert_exporter": "python",
   "pygments_lexer": "ipython3",
   "version": "3.9.13"
  },
  "orig_nbformat": 4,
  "vscode": {
   "interpreter": {
    "hash": "6420c7847fcbd6e04abdcd117e52ae50013838c7893f781a18abd791307fbf5c"
   }
  }
 },
 "nbformat": 4,
 "nbformat_minor": 2
}
