{
 "cells": [
  {
   "cell_type": "markdown",
   "metadata": {},
   "source": [
    "# Macroprudential Policy and the Housing Market - Replication Notebook\n",
    "This notebook solves and simulates the Heterogenous Agent Housing Market (HAH) model and produces the output contained in my Master's thesis. \n",
    "\n",
    "**Dependencies:**\n",
    "\n",
    "The code structure builds upon the framework developed by Jeppe Druedahl & Co. in the [NumEconCopenhagen Project](https://github.com/NumEconCopenhagen)\n",
    "\n",
    "Packages required for running the notebooks are:\n",
    "- [ConSav](https://pypi.org/project/ConSav/)\n",
    "- [EconModel](https://pypi.org/project/EconModel/)\n",
    "- [matplotlib](https://pypi.org/project/matplotlib/)\n",
    "- [numpy](https://pypi.org/project/numpy/)\n",
    "- [numba](https://pypi.org/project/numba/)\n",
    "- [pandas](https://pypi.org/project/pandas/) ?\n",
    "- [quantecon](https://pypi.org/project/quantecon/) ?"
   ]
  },
  {
   "cell_type": "code",
   "execution_count": 2,
   "metadata": {},
   "outputs": [
    {
     "name": "stdout",
     "output_type": "stream",
     "text": [
      "The autoreload extension is already loaded. To reload it, use:\n",
      "  %reload_ext autoreload\n"
     ]
    }
   ],
   "source": [
    "# imports\n",
    "%load_ext autoreload\n",
    "%autoreload 2\n",
    "\n",
    "import numpy as np\n",
    "import matplotlib.pyplot as plt\n",
    "\n",
    "import numba as nb\n",
    "nb.set_num_threads(4)\n",
    "\n",
    "from HAHModel import HAHModelClass "
   ]
  },
  {
   "cell_type": "markdown",
   "metadata": {},
   "source": [
    "## Baseline model"
   ]
  },
  {
   "cell_type": "code",
   "execution_count": null,
   "metadata": {},
   "outputs": [],
   "source": [
    "model_baseline = HAHModelClass(\n",
    "    name='baseline',\n",
    "    par={\n",
    "        'solmethod':'negm',\n",
    "        #'cross_compute':True, # whether to cross-compute MPC if discrete choice is altered\n",
    "        'do_print':True\n",
    "        })\n",
    "\n",
    "model_baseline.precompile_numba() # solve with very coarse grids\n",
    "model_baseline.solve() \n",
    "model_baseline.simulate()"
   ]
  }
 ],
 "metadata": {
  "kernelspec": {
   "display_name": "Python 3.9.13 ('base')",
   "language": "python",
   "name": "python3"
  },
  "language_info": {
   "codemirror_mode": {
    "name": "ipython",
    "version": 3
   },
   "file_extension": ".py",
   "mimetype": "text/x-python",
   "name": "python",
   "nbconvert_exporter": "python",
   "pygments_lexer": "ipython3",
   "version": "3.9.13"
  },
  "orig_nbformat": 4,
  "vscode": {
   "interpreter": {
    "hash": "6420c7847fcbd6e04abdcd117e52ae50013838c7893f781a18abd791307fbf5c"
   }
  }
 },
 "nbformat": 4,
 "nbformat_minor": 2
}
