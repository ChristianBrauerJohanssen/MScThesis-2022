{
 "cells": [
  {
   "cell_type": "markdown",
   "metadata": {},
   "source": [
    "# Macroprudential Policy and the Housing Market\n",
    "This notebook solves and simulates the Heterogenous Agent Housing Market (HAH) model and produces the output contained in my Master's thesis. \n",
    "\n",
    "**Dependencies:**\n",
    "\n",
    "The code structure builds upon the framework developed by Jeppe Druedahl & Co. in the [NumEconCopenhagen Project](https://github.com/NumEconCopenhagen)\n",
    "\n",
    "Packages required for running the notebooks are:\n",
    "- [ConSav](https://pypi.org/project/ConSav/)\n",
    "- [EconModel](https://pypi.org/project/EconModel/)\n",
    "- [matplotlib](https://pypi.org/project/matplotlib/)\n",
    "- [numpy](https://pypi.org/project/numpy/)\n",
    "- [numba](https://pypi.org/project/numba/)"
   ]
  },
  {
   "cell_type": "code",
   "execution_count": 54,
   "metadata": {},
   "outputs": [
    {
     "name": "stdout",
     "output_type": "stream",
     "text": [
      "The autoreload extension is already loaded. To reload it, use:\n",
      "  %reload_ext autoreload\n"
     ]
    }
   ],
   "source": [
    "# imports\n",
    "%load_ext autoreload\n",
    "%autoreload 2\n",
    "\n",
    "import numpy as np\n",
    "import matplotlib.pyplot as plt\n",
    "import numba as nb\n",
    "nb.set_num_threads(4)\n",
    "\n",
    "from HAHModel import HAHModelClass"
   ]
  },
  {
   "cell_type": "markdown",
   "metadata": {},
   "source": [
    "## Baseline model"
   ]
  },
  {
   "cell_type": "code",
   "execution_count": 93,
   "metadata": {},
   "outputs": [
    {
     "name": "stdout",
     "output_type": "stream",
     "text": [
      " t = 3 solved in 50.7 secs\n",
      " t = 2 solved in 55.8 secs\n",
      " t = 1 solved in 0.0 secs\n",
      " t = 0 solved in 0.0 secs\n",
      " total precomputation time  = 71.3 secs\n",
      " total stay-time  = 11.2 secs\n",
      " total ref-time   = 9.8 secs\n",
      " total buy-time   = 9.8 secs\n",
      " total rent-time   = 4.4 secs\n",
      " full model solved in = 106.6 secs\n",
      "model simulated in 66.2 secs\n",
      "numba precompiled in 178.2 secs\n"
     ]
    }
   ],
   "source": [
    "# initialise an instance of baseline model\n",
    "model_baseline = HAHModelClass(\n",
    "    name='baseline',\n",
    "    par={'zeta':100,\n",
    "        'do_print':True\n",
    "        })\n",
    "\n",
    "model_baseline.precompile_numba() # solve model with very coarse grids --> speed gains\n",
    "#model_baseline.save()"
   ]
  },
  {
   "cell_type": "code",
   "execution_count": 94,
   "metadata": {},
   "outputs": [
    {
     "name": "stdout",
     "output_type": "stream",
     "text": [
      " last period bequest computed in 0.0 secs\n",
      " solved stayer problem in 0.1 secs\n",
      " solved refinance problem in 0.0 secs\n",
      " solved buyer problem in 0.0 secs\n",
      " solved renter problem in 0.0 secs\n",
      " t = 54 solved in 0.2 secs\n",
      " v_bar and q computed in 2.6 secs\n"
     ]
    },
    {
     "name": "stderr",
     "output_type": "stream",
     "text": [
      "Traceback (most recent call last):\n",
      "  File \"/Users/Christian/Desktop/OldMscRepo/MScThesis-2022/HAHModel.py\", line 399, in solve\n",
      "    assert np.all((sol.q[t,:,:,0:Td_len,0:Tda_len,:,:] > 0) &\n",
      "AssertionError: 53\n"
     ]
    },
    {
     "ename": "AssertionError",
     "evalue": "53",
     "output_type": "error",
     "traceback": [
      "\u001b[0;31m---------------------------------------------------------------------------\u001b[0m",
      "\u001b[0;31mAssertionError\u001b[0m                            Traceback (most recent call last)",
      "\u001b[0;32m/var/folders/23/m5wgdyb92cs9fl4fls0nt3xw0000gn/T/ipykernel_18274/3625593488.py\u001b[0m in \u001b[0;36m<cell line: 1>\u001b[0;34m()\u001b[0m\n\u001b[0;32m----> 1\u001b[0;31m \u001b[0mmodel_baseline\u001b[0m\u001b[0;34m.\u001b[0m\u001b[0msolve\u001b[0m\u001b[0;34m(\u001b[0m\u001b[0mdo_assert\u001b[0m\u001b[0;34m=\u001b[0m\u001b[0;32mTrue\u001b[0m\u001b[0;34m)\u001b[0m\u001b[0;34m\u001b[0m\u001b[0;34m\u001b[0m\u001b[0m\n\u001b[0m\u001b[1;32m      2\u001b[0m \u001b[0mmodel_baseline\u001b[0m\u001b[0;34m.\u001b[0m\u001b[0msimulate\u001b[0m\u001b[0;34m(\u001b[0m\u001b[0;34m)\u001b[0m\u001b[0;34m\u001b[0m\u001b[0;34m\u001b[0m\u001b[0m\n",
      "\u001b[0;32m~/Desktop/OldMscRepo/MScThesis-2022/HAHModel.py\u001b[0m in \u001b[0;36msolve\u001b[0;34m(self, do_assert)\u001b[0m\n\u001b[1;32m    397\u001b[0m                         assert np.all((sol.inv_v_bar[t,:,:,0:Td_len,0:Tda_len,:,:] > 0) & \n\u001b[1;32m    398\u001b[0m                                       (np.isnan(sol.inv_v_bar[t,:,:,0:Td_len,0:Tda_len,:,:]) == False)), t\n\u001b[0;32m--> 399\u001b[0;31m                         assert np.all((sol.q[t,:,:,0:Td_len,0:Tda_len,:,:] > 0) & \n\u001b[0m\u001b[1;32m    400\u001b[0m                                       (np.isnan(sol.q[t,:,:,0:Td_len,0:Tda_len,:,:]) == False)), t\n\u001b[1;32m    401\u001b[0m \u001b[0;34m\u001b[0m\u001b[0m\n",
      "\u001b[0;31mAssertionError\u001b[0m: 53"
     ]
    }
   ],
   "source": [
    "model_baseline.solve(do_assert=True)\n",
    "model_baseline.simulate()"
   ]
  },
  {
   "cell_type": "code",
   "execution_count": 95,
   "metadata": {},
   "outputs": [
    {
     "name": "stdout",
     "output_type": "stream",
     "text": [
      "t=53, Tdlen=27, Tda_len=3\n",
      "size of q at t=53 is 453600\n",
      "there are 0 NaN entries\n",
      "the nan indices are []\n",
      "size of sol.q at t=53 with Tda in 0,1,2 is 453600\n",
      "there are 108 negative entries\n",
      "the indices of negative entries are [[ 5  9  0  1  0  0]\n",
      " [ 5  9  0  2  0  0]\n",
      " [ 5  9  1  1  0  0]\n",
      " [ 5  9  1  2  0  0]\n",
      " [ 5  9  2  1  0  0]\n",
      " [ 5  9  2  2  0  0]\n",
      " [ 5  9  3  1  0  0]\n",
      " [ 5  9  3  2  0  0]\n",
      " [ 5  9  4  1  0  0]\n",
      " [ 5  9  4  2  0  0]\n",
      " [ 5  9  5  1  0  0]\n",
      " [ 5  9  5  2  0  0]\n",
      " [ 5  9  6  1  0  0]\n",
      " [ 5  9  6  2  0  0]\n",
      " [ 5  9  7  1  0  0]\n",
      " [ 5  9  7  2  0  0]\n",
      " [ 5  9  8  1  0  0]\n",
      " [ 5  9  8  2  0  0]\n",
      " [ 5  9  9  1  0  0]\n",
      " [ 5  9  9  2  0  0]\n",
      " [ 5  9 10  1  0  0]\n",
      " [ 5  9 10  2  0  0]\n",
      " [ 5  9 11  1  0  0]\n",
      " [ 5  9 11  2  0  0]\n",
      " [ 5  9 12  1  0  0]\n",
      " [ 5  9 12  2  0  0]\n",
      " [ 5  9 13  1  0  0]\n",
      " [ 5  9 13  2  0  0]\n",
      " [ 5  9 14  1  0  0]\n",
      " [ 5  9 14  2  0  0]\n",
      " [ 5  9 15  1  0  0]\n",
      " [ 5  9 15  2  0  0]\n",
      " [ 5  9 16  1  0  0]\n",
      " [ 5  9 16  2  0  0]\n",
      " [ 5  9 17  1  0  0]\n",
      " [ 5  9 17  2  0  0]\n",
      " [ 5  9 18  1  0  0]\n",
      " [ 5  9 18  2  0  0]\n",
      " [ 5  9 19  1  0  0]\n",
      " [ 5  9 19  2  0  0]\n",
      " [ 5  9 20  1  0  0]\n",
      " [ 5  9 20  2  0  0]\n",
      " [ 5  9 21  1  0  0]\n",
      " [ 5  9 21  2  0  0]\n",
      " [ 5  9 22  1  0  0]\n",
      " [ 5  9 22  2  0  0]\n",
      " [ 5  9 23  1  0  0]\n",
      " [ 5  9 23  2  0  0]\n",
      " [ 5  9 24  1  0  0]\n",
      " [ 5  9 24  2  0  0]\n",
      " [ 5  9 25  1  0  0]\n",
      " [ 5  9 25  2  0  0]\n",
      " [ 5  9 26  1  0  0]\n",
      " [ 5  9 26  2  0  0]\n",
      " [ 6  9  0  1  0  0]\n",
      " [ 6  9  0  2  0  0]\n",
      " [ 6  9  1  1  0  0]\n",
      " [ 6  9  1  2  0  0]\n",
      " [ 6  9  2  1  0  0]\n",
      " [ 6  9  2  2  0  0]\n",
      " [ 6  9  3  1  0  0]\n",
      " [ 6  9  3  2  0  0]\n",
      " [ 6  9  4  1  0  0]\n",
      " [ 6  9  4  2  0  0]\n",
      " [ 6  9  5  1  0  0]\n",
      " [ 6  9  5  2  0  0]\n",
      " [ 6  9  6  1  0  0]\n",
      " [ 6  9  6  2  0  0]\n",
      " [ 6  9  7  1  0  0]\n",
      " [ 6  9  7  2  0  0]\n",
      " [ 6  9  8  1  0  0]\n",
      " [ 6  9  8  2  0  0]\n",
      " [ 6  9  9  1  0  0]\n",
      " [ 6  9  9  2  0  0]\n",
      " [ 6  9 10  1  0  0]\n",
      " [ 6  9 10  2  0  0]\n",
      " [ 6  9 11  1  0  0]\n",
      " [ 6  9 11  2  0  0]\n",
      " [ 6  9 12  1  0  0]\n",
      " [ 6  9 12  2  0  0]\n",
      " [ 6  9 13  1  0  0]\n",
      " [ 6  9 13  2  0  0]\n",
      " [ 6  9 14  1  0  0]\n",
      " [ 6  9 14  2  0  0]\n",
      " [ 6  9 15  1  0  0]\n",
      " [ 6  9 15  2  0  0]\n",
      " [ 6  9 16  1  0  0]\n",
      " [ 6  9 16  2  0  0]\n",
      " [ 6  9 17  1  0  0]\n",
      " [ 6  9 17  2  0  0]\n",
      " [ 6  9 18  1  0  0]\n",
      " [ 6  9 18  2  0  0]\n",
      " [ 6  9 19  1  0  0]\n",
      " [ 6  9 19  2  0  0]\n",
      " [ 6  9 20  1  0  0]\n",
      " [ 6  9 20  2  0  0]\n",
      " [ 6  9 21  1  0  0]\n",
      " [ 6  9 21  2  0  0]\n",
      " [ 6  9 22  1  0  0]\n",
      " [ 6  9 22  2  0  0]\n",
      " [ 6  9 23  1  0  0]\n",
      " [ 6  9 23  2  0  0]\n",
      " [ 6  9 24  1  0  0]\n",
      " [ 6  9 24  2  0  0]\n",
      " [ 6  9 25  1  0  0]\n",
      " [ 6  9 25  2  0  0]\n",
      " [ 6  9 26  1  0  0]\n",
      " [ 6  9 26  2  0  0]]\n",
      "-3.6104224879718707\n"
     ]
    }
   ],
   "source": [
    "par = model_baseline.par\n",
    "sol = model_baseline.sol\n",
    "\n",
    "t = par.T-2\n",
    "Td_len = np.fmin(t+2,par.Td_shape)\n",
    "Tda_len = np.fmin(par.Tda_bar,par.T-t+1)\n",
    "\n",
    "# sanity check\n",
    "print(f't={t}, Tdlen={Td_len}, Tda_len={Tda_len}')\n",
    "\n",
    "# check NaNs in relevant part of sol.q\n",
    "nan_mat_q = np.argwhere(np.isnan(sol.q[t,:,:,0:Td_len,0:Tda_len,:,:]))\n",
    "print(f'size of q at t={t} is {sol.q[t,:,:,0:Td_len,0:Tda_len,:,:].size}')\n",
    "print(f'there are {nan_mat_q.shape[0]} NaN entries')\n",
    "print(f'the nan indices are {nan_mat_q}')\n",
    "\n",
    "# check zero or negative entries in relevant part of sol.q\n",
    "zero_mat_q= np.argwhere(sol.q[t,:,:,0:Td_len,0:Tda_len,:,:] < 0)\n",
    "print(f'size of sol.q at t={t} with Tda in 0,1,2 is {sol.q[t,:,:,0:Td_len,0:Tda_len,:,:].size}')\n",
    "print(f'there are {zero_mat_q.shape[0]} negative entries')\n",
    "print(f'the indices of negative entries are {zero_mat_q}')\n",
    "print(sol.q[t,5,9,0,1,0,0])\n"
   ]
  },
  {
   "cell_type": "code",
   "execution_count": 90,
   "metadata": {},
   "outputs": [
    {
     "name": "stdout",
     "output_type": "stream",
     "text": [
      "inv_v_def=0.0028933452020336106, inv_marg_u_def=0.0023719444035439925, q=10.272690187676265\n"
     ]
    }
   ],
   "source": [
    "import HHproblems as hhp\n",
    "from EconModel import jit\n",
    "with jit(model_baseline) as model:\n",
    "    par = model.par\n",
    "    sol = model.sol\n",
    "    t = par.T-2\n",
    "    y_plus = par.grid_w[0]\n",
    "    i_shock = 0 \n",
    "\n",
    "    inv_v_def, inv_marg_u_def = hhp.force_default(y_plus,i_shock,t,sol,par)\n",
    "\n",
    "q = 0.025*par.beta*(1+par.r)*1/inv_marg_u_def\n",
    "print(f'inv_v_def={inv_v_def}, inv_marg_u_def={inv_marg_u_def}, q={q}')\n",
    "\n"
   ]
  },
  {
   "cell_type": "code",
   "execution_count": 72,
   "metadata": {},
   "outputs": [],
   "source": [
    "## check NaNs in relevant part of sol.inv_v_bar\n",
    "#nan_mat_v = np.argwhere(np.isnan(sol.inv_v_bar[t,:,:,0:Td_len,0:Tda_len,:,:]))\n",
    "#print(f'size of q at t={t} is {sol.inv_v_bar[t,:,:,0:Td_len,0:Tda_len,:,:].size}')\n",
    "#print(f'there are {nan_mat_v.shape[0]} NaN entries')\n",
    "#print(f'the nan indices are {nan_mat_v}')\n",
    "#\n",
    "## check zero or negative entries in relevant part of sol.inv_v_bar\n",
    "#zero_mat_v= np.argwhere(sol.inv_v_bar[t,:,:,0:Td_len,0:Tda_len,:,:] <= 0)\n",
    "#print(f'size of c_endo at t={t} with Tda in 0,1,2 is {sol.inv_v_bar[t,:,:,0:Td_len,0:Tda_len,:,:].size}')\n",
    "#print(f'there are {zero_mat_v.shape[0]} zero or negative entries')\n",
    "#print(f'the zero indices/negative are {zero_mat_v}')\n",
    "\n",
    "########################################################################################################\n",
    "#\n",
    "## check for NaNs in relevant part of inv_v_bar\n",
    "#nan_mat_inv_v_bar = np.argwhere(np.isnan(sol.inv_v_bar[t,:,:,0:Td_len,0:Tda_len,:,:]))\n",
    "#print(f'size of sol.inv_v_bar at t={t} is {sol.inv_v_bar[t,:,:,0:Td_len,0:Tda_len,:,:].size}')\n",
    "#print(f'there are {nan_mat_inv_v_bar.shape[0]} NaN entries')\n",
    "#print(f'the nan indices are {nan_mat_inv_v_bar}')\n",
    "#\n",
    "## check zero or negative entries in relevant part of sol.q\n",
    "#zero_mat_inv_v_bar = np.argwhere(sol.inv_v_bar[t,:,:,0:Td_len,0:Tda_len,:,:] <= 0)\n",
    "#print(f'size of sol.inv_v_bar at t={t} with Tda in 0,1,2 is {sol.inv_v_bar[t,:,:,0:Td_len,0:Tda_len,:,:].size}')\n",
    "#print(f'there are {zero_mat_inv_v_bar.shape[0]} zero or negative entries')\n",
    "#print(f'the zero indices are {zero_mat_inv_v_bar}')\n",
    "\n",
    "#######################################################################################################\n",
    "#\n",
    "## check for NaNs in relevant part of c_stay\n",
    "#nan_mat_c_stay = np.argwhere(np.isnan(sol.c_stay[t,:,:,0:Td_len,0:Tda_len,:,1:-1]))\n",
    "#print(f'size of sol.c_stay at t={t} is {sol.c_stay[t,:,:,0:Td_len,0:Tda_len,:,:].size}')\n",
    "#print(f'there are {nan_mat_c_stay.shape[0]} NaN entries')\n",
    "#print(f'the nan indices are {nan_mat_c_stay}')\n",
    "\n",
    "## check for zeros in relevant part of c_stay\n",
    "#zero_mat_c_stay = np.argwhere(sol.c_stay[t,:,:,0:Td_len,0:Tda_len,:,:] == 0)\n",
    "#print(f'size of sol.c_stay at t={t} is {sol.c_stay[t,:,:,0:Td_len,0:Tda_len,:,:].size}')\n",
    "#print(f'there are {zero_mat_c_stay.shape[0]} zero entries')\n",
    "#print(f'the indices are {zero_mat_c_stay}')"
   ]
  },
  {
   "cell_type": "markdown",
   "metadata": {},
   "source": [
    "### Life Cycle Dynamics"
   ]
  },
  {
   "cell_type": "code",
   "execution_count": 57,
   "metadata": {},
   "outputs": [
    {
     "data": {
      "image/png": "[encoded data removed]",
      "text/plain": [
       "<Figure size 1200x1200 with 9 Axes>"
      ]
     },
     "metadata": {},
     "output_type": "display_data"
    }
   ],
   "source": [
    "import figs\n",
    "\n",
    "# average behaviour over the life cycle\n",
    "figs.lifecycle(model=model_baseline)"
   ]
  },
  {
   "cell_type": "code",
   "execution_count": null,
   "metadata": {},
   "outputs": [],
   "source": []
  },
  {
   "cell_type": "markdown",
   "metadata": {},
   "source": [
    "### Test solving the household problem for a few periods"
   ]
  },
  {
   "cell_type": "code",
   "execution_count": 99,
   "metadata": {},
   "outputs": [
    {
     "name": "stdout",
     "output_type": "stream",
     "text": [
      "post decision is done\n",
      "stay is done\n",
      "refinance is done\n",
      "buy is done\n",
      "rent is done\n",
      "start solving t=53\n"
     ]
    },
    {
     "name": "stderr",
     "output_type": "stream",
     "text": [
      "Traceback (most recent call last):\n",
      "  File \"/var/folders/23/m5wgdyb92cs9fl4fls0nt3xw0000gn/T/ipykernel_18274/1421820682.py\", line 41, in <cell line: 10>\n",
      "    hhp.postdecision_compute_v_bar_q.py_func(t,sol,par)\n",
      "  File \"/Users/Christian/Desktop/OldMscRepo/MScThesis-2022/HHproblems.py\", line 438, in postdecision_compute_v_bar_q\n",
      "    assert marg_u_plus > 0, (i_h, i_dp, i_Td, i_Tda, i_w, i_a, discrete, rent_choice, marg_u_plus)\n",
      "AssertionError: (5, 9, 0, 1, 0, 0, array([0.00716005, 0.03860935, 0.        , 0.00730132]), array([2., 2., 2., 2., 2., 2., 2., 2., 2., 2.]), -205.79624775561624)\n"
     ]
    },
    {
     "ename": "AssertionError",
     "evalue": "(5, 9, 0, 1, 0, 0, array([0.00716005, 0.03860935, 0.        , 0.00730132]), array([2., 2., 2., 2., 2., 2., 2., 2., 2., 2.]), -205.79624775561624)",
     "output_type": "error",
     "traceback": [
      "\u001b[0;31m---------------------------------------------------------------------------\u001b[0m",
      "\u001b[0;31mAssertionError\u001b[0m                            Traceback (most recent call last)",
      "\u001b[0;32m/var/folders/23/m5wgdyb92cs9fl4fls0nt3xw0000gn/T/ipykernel_18274/1421820682.py\u001b[0m in \u001b[0;36m<cell line: 10>\u001b[0;34m()\u001b[0m\n\u001b[1;32m     39\u001b[0m     \u001b[0mt\u001b[0m \u001b[0;34m=\u001b[0m \u001b[0mt\u001b[0m\u001b[0;34m-\u001b[0m\u001b[0;36m1\u001b[0m\u001b[0;34m\u001b[0m\u001b[0;34m\u001b[0m\u001b[0m\n\u001b[1;32m     40\u001b[0m     \u001b[0mprint\u001b[0m\u001b[0;34m(\u001b[0m\u001b[0;34mf'start solving t={t}'\u001b[0m\u001b[0;34m)\u001b[0m\u001b[0;34m\u001b[0m\u001b[0;34m\u001b[0m\u001b[0m\n\u001b[0;32m---> 41\u001b[0;31m     \u001b[0mhhp\u001b[0m\u001b[0;34m.\u001b[0m\u001b[0mpostdecision_compute_v_bar_q\u001b[0m\u001b[0;34m.\u001b[0m\u001b[0mpy_func\u001b[0m\u001b[0;34m(\u001b[0m\u001b[0mt\u001b[0m\u001b[0;34m,\u001b[0m\u001b[0msol\u001b[0m\u001b[0;34m,\u001b[0m\u001b[0mpar\u001b[0m\u001b[0;34m)\u001b[0m\u001b[0;34m\u001b[0m\u001b[0;34m\u001b[0m\u001b[0m\n\u001b[0m\u001b[1;32m     42\u001b[0m     assert np.all((sol.inv_v_bar[t,:,:,0:Td_len,0:Tda_len,:,:] > 0) & \n\u001b[1;32m     43\u001b[0m        (np.isnan(sol.inv_v_bar[t,:,:,0:Td_len,0:Tda_len,:,:]) == False)), t\n",
      "\u001b[0;32m~/Desktop/OldMscRepo/MScThesis-2022/HHproblems.py\u001b[0m in \u001b[0;36mpostdecision_compute_v_bar_q\u001b[0;34m(t, sol, par)\u001b[0m\n\u001b[1;32m    436\u001b[0m                                             \u001b[0mv_plus\u001b[0m \u001b[0;34m=\u001b[0m \u001b[0;34m-\u001b[0m\u001b[0;36m1\u001b[0m\u001b[0;34m/\u001b[0m\u001b[0minv_v_rent_plus\u001b[0m\u001b[0;34m[\u001b[0m\u001b[0mi_a\u001b[0m\u001b[0;34m,\u001b[0m\u001b[0mint\u001b[0m\u001b[0;34m(\u001b[0m\u001b[0mrent_choice\u001b[0m\u001b[0;34m[\u001b[0m\u001b[0mi_a\u001b[0m\u001b[0;34m]\u001b[0m\u001b[0;34m)\u001b[0m\u001b[0;34m]\u001b[0m\u001b[0;34m\u001b[0m\u001b[0;34m\u001b[0m\u001b[0m\n\u001b[1;32m    437\u001b[0m                                             \u001b[0mmarg_u_plus\u001b[0m \u001b[0;34m=\u001b[0m \u001b[0;36m1\u001b[0m\u001b[0;34m/\u001b[0m\u001b[0minv_marg_u_rent_plus\u001b[0m\u001b[0;34m[\u001b[0m\u001b[0mi_a\u001b[0m\u001b[0;34m,\u001b[0m\u001b[0mint\u001b[0m\u001b[0;34m(\u001b[0m\u001b[0mrent_choice\u001b[0m\u001b[0;34m[\u001b[0m\u001b[0mi_a\u001b[0m\u001b[0;34m]\u001b[0m\u001b[0;34m)\u001b[0m\u001b[0;34m]\u001b[0m\u001b[0;34m\u001b[0m\u001b[0;34m\u001b[0m\u001b[0m\n\u001b[0;32m--> 438\u001b[0;31m                                     \u001b[0;32massert\u001b[0m \u001b[0mmarg_u_plus\u001b[0m \u001b[0;34m>\u001b[0m \u001b[0;36m0\u001b[0m\u001b[0;34m,\u001b[0m \u001b[0;34m(\u001b[0m\u001b[0mi_h\u001b[0m\u001b[0;34m,\u001b[0m \u001b[0mi_dp\u001b[0m\u001b[0;34m,\u001b[0m \u001b[0mi_Td\u001b[0m\u001b[0;34m,\u001b[0m \u001b[0mi_Tda\u001b[0m\u001b[0;34m,\u001b[0m \u001b[0mi_w\u001b[0m\u001b[0;34m,\u001b[0m \u001b[0mi_a\u001b[0m\u001b[0;34m,\u001b[0m \u001b[0mdiscrete\u001b[0m\u001b[0;34m,\u001b[0m \u001b[0mrent_choice\u001b[0m\u001b[0;34m,\u001b[0m \u001b[0mmarg_u_plus\u001b[0m\u001b[0;34m)\u001b[0m\u001b[0;34m\u001b[0m\u001b[0;34m\u001b[0m\u001b[0m\n\u001b[0m\u001b[1;32m    439\u001b[0m                                     \u001b[0mv_bar\u001b[0m\u001b[0;34m[\u001b[0m\u001b[0mi_a\u001b[0m\u001b[0;34m]\u001b[0m \u001b[0;34m+=\u001b[0m \u001b[0mweight\u001b[0m\u001b[0;34m*\u001b[0m\u001b[0mpar\u001b[0m\u001b[0;34m.\u001b[0m\u001b[0mbeta\u001b[0m\u001b[0;34m*\u001b[0m\u001b[0mv_plus\u001b[0m\u001b[0;34m\u001b[0m\u001b[0;34m\u001b[0m\u001b[0m\n\u001b[1;32m    440\u001b[0m                                     \u001b[0mq\u001b[0m\u001b[0;34m[\u001b[0m\u001b[0mi_h\u001b[0m\u001b[0;34m,\u001b[0m\u001b[0mi_dp\u001b[0m\u001b[0;34m,\u001b[0m\u001b[0mi_Td\u001b[0m\u001b[0;34m,\u001b[0m\u001b[0mi_Tda\u001b[0m\u001b[0;34m,\u001b[0m\u001b[0mi_w\u001b[0m\u001b[0;34m,\u001b[0m\u001b[0mi_a\u001b[0m\u001b[0;34m]\u001b[0m \u001b[0;34m+=\u001b[0m \u001b[0mweight\u001b[0m\u001b[0;34m*\u001b[0m\u001b[0mpar\u001b[0m\u001b[0;34m.\u001b[0m\u001b[0mbeta\u001b[0m\u001b[0;34m*\u001b[0m\u001b[0;34m(\u001b[0m\u001b[0;36m1\u001b[0m\u001b[0;34m+\u001b[0m\u001b[0mpar\u001b[0m\u001b[0;34m.\u001b[0m\u001b[0mr\u001b[0m\u001b[0;34m)\u001b[0m\u001b[0;34m*\u001b[0m\u001b[0mmarg_u_plus\u001b[0m\u001b[0;34m\u001b[0m\u001b[0;34m\u001b[0m\u001b[0m\n",
      "\u001b[0;31mAssertionError\u001b[0m: (5, 9, 0, 1, 0, 0, array([0.00716005, 0.03860935, 0.        , 0.00730132]), array([2., 2., 2., 2., 2., 2., 2., 2., 2., 2.]), -205.79624775561624)"
     ]
    }
   ],
   "source": [
    "import HHproblems as hhp\n",
    "from EconModel import jit\n",
    "\n",
    "par = model_baseline.par\n",
    "\n",
    "t = par.T-1\n",
    "Td_len = np.fmin(t+2,par.Td_shape)\n",
    "Tda_len = np.fmin(par.Tda_bar,par.T-t+1)\n",
    "\n",
    "with jit(model_baseline) as model: \n",
    "    sol = model.sol\n",
    "    par = model.par\n",
    "    hhp.last_period_v_bar_q(t,sol,par)\n",
    "    assert np.all((sol.inv_v_bar[t,:,:,0:Td_len,0:Tda_len,:,:] > 0) & \n",
    "       (np.isnan(sol.inv_v_bar[t,:,:,0:Td_len,0:Tda_len,:,:]) == False)), t\n",
    "    assert np.all((sol.q[t,:,:,0:Td_len,0:Tda_len,:,:] > 0) & \n",
    "       (np.isnan(sol.q[t,:,:,0:Td_len,0:Tda_len,:,:]) == False)), t                  \n",
    "    print('post decision is done')\n",
    "    hhp.solve_stay(t,sol,par)\n",
    "    assert np.all((sol.c_stay[t,:,:,0:Td_len,0:Tda_len,:,:] >= 0) & \n",
    "       (np.isnan(sol.c_stay[t,:,:,0:Td_len,0:Tda_len,:,:]) == False)), t\n",
    "    assert np.all((sol.inv_v_stay[t,:,:,0:Td_len,0:Tda_len,:,:] >= 0) & \n",
    "       (np.isnan(sol.inv_v_stay[t,:,:,0:Td_len,0:Tda_len,:,:]) == False)), t\n",
    "    print('stay is done')\n",
    "    hhp.solve_ref_fast(t,sol,par)\n",
    "    assert np.all((sol.c_ref_fast[t] >= 0) & (np.isnan(sol.c_ref_fast[t]) == False)), t\n",
    "    assert np.all((sol.d_prime_ref_fast[t] >= 0) & (np.isnan(sol.d_prime_ref_fast[t]) == False)), t\n",
    "    assert np.all((sol.inv_v_ref_fast[t] >= 0) & (np.isnan(sol.inv_v_ref_fast[t]) == False)), t\n",
    "    print('refinance is done')\n",
    "    hhp.solve_buy_fast(t,sol,par)\n",
    "    assert np.all((sol.c_buy_fast[t] >= 0) & (np.isnan(sol.c_buy_fast[t]) == False)), t\n",
    "    assert np.all((sol.d_prime_buy_fast[t] >= 0) & (np.isnan(sol.d_prime_buy_fast[t]) == False)), t\n",
    "    assert np.all((sol.inv_v_buy_fast[t] >= 0) & (np.isnan(sol.inv_v_buy_fast[t]) == False)), t                \n",
    "    print('buy is done')\n",
    "    hhp.solve_rent(t,sol,par)\n",
    "    assert np.all((sol.c_rent[t] >= 0) & (np.isnan(sol.c_rent[t]) == False))\n",
    "    assert np.all((sol.inv_v_rent[t] >= 0) & (np.isnan(sol.inv_v_rent[t]) == False))            \n",
    "    print('rent is done')\n",
    "    t = t-1\n",
    "    print(f'start solving t={t}')\n",
    "    hhp.postdecision_compute_v_bar_q.py_func(t,sol,par)\n",
    "    assert np.all((sol.inv_v_bar[t,:,:,0:Td_len,0:Tda_len,:,:] > 0) & \n",
    "       (np.isnan(sol.inv_v_bar[t,:,:,0:Td_len,0:Tda_len,:,:]) == False)), t\n",
    "    assert np.all((sol.q[t,:,:,0:Td_len,0:Tda_len,:,:] > 0) & \n",
    "       (np.isnan(sol.q[t,:,:,0:Td_len,0:Tda_len,:,:]) == False)), t                  \n",
    "    print('post decision is done')\n",
    "    hhp.solve_stay(t,sol,par)\n",
    "    assert np.all((sol.c_stay[t,:,:,0:Td_len,0:Tda_len,:,:] >= 0) & \n",
    "       (np.isnan(sol.c_stay[t,:,:,0:Td_len,0:Tda_len,:,:]) == False)), t\n",
    "    assert np.all((sol.inv_v_stay[t,:,:,0:Td_len,0:Tda_len,:,:] >= 0) & \n",
    "       (np.isnan(sol.inv_v_stay[t,:,:,0:Td_len,0:Tda_len,:,:]) == False)), t\n",
    "    print('stay is done')\n",
    "    hhp.solve_ref_fast(t,sol,par)\n",
    "    assert np.all((sol.c_ref_fast[t] >= 0) & (np.isnan(sol.c_ref_fast[t]) == False)), t\n",
    "    assert np.all((sol.d_prime_ref_fast[t] >= 0) & (np.isnan(sol.d_prime_ref_fast[t]) == False)), t\n",
    "    assert np.all((sol.inv_v_ref_fast[t] >= 0) & (np.isnan(sol.inv_v_ref_fast[t]) == False)), t\n",
    "    print('refinance fast is done')\n",
    "    hhp.solve_buy_fast(t,sol,par)\n",
    "    assert np.all((sol.c_buy_fast[t] >= 0) & (np.isnan(sol.c_buy_fast[t]) == False)), t\n",
    "    assert np.all((sol.d_prime_buy_fast[t] >= 0) & (np.isnan(sol.d_prime_buy_fast[t]) == False)), t\n",
    "    assert np.all((sol.inv_v_buy_fast[t] >= 0) & (np.isnan(sol.inv_v_buy_fast[t]) == False)), t                \n",
    "    print('buy fast is done')\n",
    "    hhp.solve_rent(t,sol,par)\n",
    "    assert np.all((sol.c_rent[t] >= 0) & (np.isnan(sol.c_rent[t]) == False))\n",
    "    assert np.all((sol.inv_v_rent[t] >= 0) & (np.isnan(sol.inv_v_rent[t]) == False))            \n",
    "    print('rent is done')\n"
   ]
  },
  {
   "cell_type": "markdown",
   "metadata": {},
   "source": [
    "### Testing utility functions, tax scheme and mortgage payment"
   ]
  },
  {
   "cell_type": "code",
   "execution_count": 16,
   "metadata": {},
   "outputs": [
    {
     "name": "stdout",
     "output_type": "stream",
     "text": [
      "the full annuity payment is 67215.71\n",
      "the remaining principal is 962784.29\n",
      "the interest payment is 30000.0\n",
      "the principal payment is 37215.71\n",
      "--------------------------------------------\n",
      "the property tax is 0.02\n",
      "the after tax income is 1.57\n",
      "--------------------------------------------\n",
      "utility for a stayer is -3.17\n",
      "marginal stay utility is 0.18\n",
      "utility for a mover is -3.51\n",
      "utility for a renter is -3.55\n"
     ]
    }
   ],
   "source": [
    "import mt\n",
    "import utility\n",
    "\n",
    "with jit(model_baseline) as model_jit:\n",
    "    par = model_jit.par\n",
    "    \n",
    "    # mortgage schedule\n",
    "    annuity,pr_rem,interest,pr_pmt = mt.mpmt(10**6,1,20,0,par)\n",
    "\n",
    "    # income and property tax\n",
    "    tax_h = mt.property_tax(1.0,2.0,par)\n",
    "    ytilde = mt.income_aftertax(2.2,0.8,3.5,0,par)\n",
    "\n",
    "    # utility\n",
    "    u_stay = utility.func(1,2,0,0,5,par)\n",
    "    marg_u_stay = utility.marg_func(2,par,par.T-1)\n",
    "    u_move = utility.func(1,2,1,0,5,par)\n",
    "    u_rent = utility.func(1,2,1,1,5,par)\n",
    "\n",
    "# print output\n",
    "print(f'the full annuity payment is {round(annuity,2)}')\n",
    "print(f'the remaining principal is {round(pr_rem,2)}')\n",
    "print(f'the interest payment is {round(interest,2)}')\n",
    "print(f'the principal payment is {round(pr_pmt,2)}')\n",
    "print('--------------------------------------------')\n",
    "print(f'the property tax is {round(tax_h,2)}')\n",
    "print(f'the after tax income is {round(ytilde,2)}')\n",
    "print('--------------------------------------------')\n",
    "print(f'utility for a stayer is {round(u_stay,2)}')\n",
    "print(f'marginal stay utility is {round(marg_u_stay,2)}')\n",
    "print(f'utility for a mover is {round(u_move,2)}')\n",
    "print(f'utility for a renter is {round(u_rent,2)}')\n"
   ]
  },
  {
   "cell_type": "markdown",
   "metadata": {},
   "source": [
    "### Testing transition rules"
   ]
  },
  {
   "cell_type": "code",
   "execution_count": 34,
   "metadata": {},
   "outputs": [
    {
     "name": "stdout",
     "output_type": "stream",
     "text": [
      "9\n",
      "next period mortgage balance is 1.4441764386047113\n",
      "m_plus_net_stay is [0.9032 0.9032 0.9032 0.9032 0.9032]\n"
     ]
    }
   ],
   "source": [
    "import trans\n",
    "\n",
    "# da periods\n",
    "Tda_next = trans.Tda_plus_func(10)\n",
    "print(Tda_next)\n",
    "\n",
    "m_plus_net_stay = np.zeros(5)\n",
    "m_plus = np.ones(5)\n",
    "\n",
    "with jit(model_baseline) as model:\n",
    "    par = model.par\n",
    "   \n",
    "    # mortgage balance\n",
    "    d_plus = trans.d_plus_func(d=1.5,t=5,Td=20,Tda=0,par=par)\n",
    "    for i in range(5):\n",
    "        m_plus_net_stay[i] = trans.m_to_mnet_stay(m_plus=m_plus[i],h=4,par=par)\n",
    "\n",
    "print(f'next period mortgage balance is {d_plus}') \n",
    "print(f'm_plus_net_stay is {m_plus_net_stay}')\n",
    "\n",
    "# income states"
   ]
  },
  {
   "cell_type": "markdown",
   "metadata": {},
   "source": [
    "### Sanity checks"
   ]
  },
  {
   "cell_type": "code",
   "execution_count": null,
   "metadata": {},
   "outputs": [],
   "source": []
  }
 ],
 "metadata": {
  "kernelspec": {
   "display_name": "Python 3.9.13 ('base')",
   "language": "python",
   "name": "python3"
  },
  "language_info": {
   "codemirror_mode": {
    "name": "ipython",
    "version": 3
   },
   "file_extension": ".py",
   "mimetype": "text/x-python",
   "name": "python",
   "nbconvert_exporter": "python",
   "pygments_lexer": "ipython3",
   "version": "3.9.13"
  },
  "orig_nbformat": 4,
  "vscode": {
   "interpreter": {
    "hash": "6420c7847fcbd6e04abdcd117e52ae50013838c7893f781a18abd791307fbf5c"
   }
  }
 },
 "nbformat": 4,
 "nbformat_minor": 2
}
